{
 "cells": [
  {
   "cell_type": "code",
   "execution_count": 2,
   "metadata": {},
   "outputs": [],
   "source": [
    "import numpy as np\n",
    "import math"
   ]
  },
  {
   "cell_type": "code",
   "execution_count": 3,
   "metadata": {},
   "outputs": [],
   "source": [
    "statistical_features = np.load(\"StanceDetectionData/statistical_features_test.npy\")\n",
    "neural_features = np.load(\"StanceDetectionData/neuralfeatures_test.npy\")\n",
    "external_features = np.load(\"StanceDetectionData/TestExtFeat.npy\")"
   ]
  },
  {
   "cell_type": "code",
   "execution_count": 10,
   "metadata": {},
   "outputs": [
    {
     "name": "stdout",
     "output_type": "stream",
     "text": [
      "(13927, 10000)\n",
      "(13927, 4800)\n",
      "(13927, 21)\n"
     ]
    }
   ],
   "source": [
    "print(statistical_features.shape)\n",
    "print(neural_features.shape)\n",
    "print(external_features.shape)\n",
    "expression = \"Data size unequal \" + str(statistical_features.shape[0]) + \", \" + str(neural_features.shape[0]) + \", \" + str(external_features.shape[0])\n",
    "assert (statistical_features.shape[0] == neural_features.shape[0]) == (statistical_features.shape[0] == external_features.shape[0]), expression"
   ]
  },
  {
   "cell_type": "code",
   "execution_count": 11,
   "metadata": {},
   "outputs": [],
   "source": [
    "combined_features = []"
   ]
  },
  {
   "cell_type": "code",
   "execution_count": 12,
   "metadata": {},
   "outputs": [],
   "source": [
    "for i in range(len(statistical_features)):\n",
    "    combined_feature = np.concatenate((statistical_features[i], neural_features[i], external_features[i]))\n",
    "    combined_features.append(combined_feature)"
   ]
  },
  {
   "cell_type": "code",
   "execution_count": 13,
   "metadata": {},
   "outputs": [],
   "source": [
    "def check_if_concatenated_properly(precision):\n",
    "    for i in range(len(combined_features)):\n",
    "        a = round(sum(statistical_features[i]) + sum(neural_features[i]) + sum(external_features[i]), precision)\n",
    "        b = round(sum(combined_features[i]), precision)\n",
    "        if math.isnan(a) :\n",
    "            a = 0\n",
    "        if math.isnan(b) :\n",
    "            b = 0\n",
    "        expression = str(a) + \", \" + str(b) + \", At data \" + str(i) + \"\"\" features are not combined \n",
    "                        properly for a precision value of \"\"\" + str(precision)\n",
    "        assert a == b, expression"
   ]
  },
  {
   "cell_type": "code",
   "execution_count": 14,
   "metadata": {},
   "outputs": [],
   "source": [
    "check_if_concatenated_properly(precision = 4)"
   ]
  },
  {
   "cell_type": "code",
   "execution_count": 17,
   "metadata": {},
   "outputs": [],
   "source": [
    "combined_features = np.array(combined_features)"
   ]
  },
  {
   "cell_type": "code",
   "execution_count": 18,
   "metadata": {},
   "outputs": [
    {
     "name": "stdout",
     "output_type": "stream",
     "text": [
      "(13927, 14821)\n"
     ]
    }
   ],
   "source": [
    "print(combined_features.shape)"
   ]
  },
  {
   "cell_type": "code",
   "execution_count": 19,
   "metadata": {},
   "outputs": [],
   "source": [
    "np.save(\"Test-Features.npy\", combined_features)"
   ]
  }
 ],
 "metadata": {
  "kernelspec": {
   "display_name": "Python 3",
   "language": "python",
   "name": "python3"
  },
  "language_info": {
   "codemirror_mode": {
    "name": "ipython",
    "version": 3
   },
   "file_extension": ".py",
   "mimetype": "text/x-python",
   "name": "python",
   "nbconvert_exporter": "python",
   "pygments_lexer": "ipython3",
   "version": "3.7.7"
  }
 },
 "nbformat": 4,
 "nbformat_minor": 4
}
