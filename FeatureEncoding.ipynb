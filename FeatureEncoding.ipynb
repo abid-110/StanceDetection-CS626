{
 "cells": [
  {
   "cell_type": "markdown",
   "metadata": {},
   "source": [
    "To run this notebook, you need to install tensorflow 1.9 and the skip-thoughts package\n",
    "\n",
    "Please follow the steps below - \n",
    "\n",
    "1. Create a new environment with python version 3.7.1 and install tensorflow 1.9.0 on it \n",
    "2. Install the skip-thoughts package with 'pip install skip-thoughts'\n",
    "\n",
    "After installation, you need to download the model zip files for skip-thought. Run the following commands to do so - \n",
    "\n",
    "1. wget \"http://download.tensorflow.org/models/skip_thoughts_bi_2017_02_16.tar.gz\"\n",
    "\n",
    "2. tar -xvf skip_thoughts_bi_2017_02_16.tar.gz\n",
    "\n",
    "3. rm skip_thoughts_bi_2017_02_16.tar.gz\n",
    "\n",
    "Once this process has been completed, you can continue running the cells below. Change the location of files accordingly in the code below. "
   ]
  },
  {
   "cell_type": "code",
   "execution_count": 1,
   "metadata": {},
   "outputs": [
    {
     "name": "stderr",
     "output_type": "stream",
     "text": [
      "c:\\users\\vinee\\anaconda3\\envs\\tensorflow_cs626\\lib\\site-packages\\scipy\\__init__.py:147: UserWarning: NumPy 1.14.5 or above is required for this version of SciPy (detected version 1.14.3)\n",
      "  UserWarning)\n"
     ]
    }
   ],
   "source": [
    "from __future__ import absolute_import\n",
    "from __future__ import division\n",
    "from __future__ import print_function\n",
    "import numpy as np\n",
    "import os.path\n",
    "from skip_thoughts import configuration\n",
    "v from skip_thoughts import encoder_manager"
   ]
  },
  {
   "cell_type": "code",
   "execution_count": 2,
   "metadata": {},
   "outputs": [],
   "source": [
    "# Set paths to the model.\n",
    "VOCAB_FILE = \".\\\\skip_thoughts_uni_2017_02_02\\\\vocab.txt\"\n",
    "EMBEDDING_MATRIX_FILE = \".\\\\skip_thoughts_uni_2017_02_02\\\\embeddings.npy\"\n",
    "CHECKPOINT_PATH = \".\\\\skip_thoughts_uni_2017_02_02\\\\model.ckpt-501424\"\n"
   ]
  },
  {
   "cell_type": "code",
   "execution_count": 3,
   "metadata": {},
   "outputs": [],
   "source": [
    "array = np.load(EMBEDDING_MATRIX_FILE)"
   ]
  },
  {
   "cell_type": "code",
   "execution_count": 4,
   "metadata": {},
   "outputs": [
    {
     "data": {
      "text/plain": [
       "(930914, 620)"
      ]
     },
     "execution_count": 4,
     "metadata": {},
     "output_type": "execute_result"
    }
   ],
   "source": [
    "array.shape"
   ]
  },
  {
   "cell_type": "code",
   "execution_count": 5,
   "metadata": {},
   "outputs": [
    {
     "name": "stdout",
     "output_type": "stream",
     "text": [
      "INFO:tensorflow:Reading vocabulary from .\\skip_thoughts_uni_2017_02_02\\vocab.txt\n",
      "INFO:tensorflow:Loaded vocabulary with 930914 words.\n",
      "INFO:tensorflow:Loading embedding matrix from .\\skip_thoughts_uni_2017_02_02\\embeddings.npy\n",
      "INFO:tensorflow:Loaded embedding matrix with shape (930914, 620)\n",
      "INFO:tensorflow:Building model.\n",
      "WARNING:tensorflow:From c:\\users\\vinee\\anaconda3\\envs\\tensorflow_cs626\\lib\\site-packages\\skip_thoughts\\skip_thoughts_model.py:360: create_global_step (from tensorflow.contrib.framework.python.ops.variables) is deprecated and will be removed in a future version.\n",
      "Instructions for updating:\n",
      "Please switch to tf.train.create_global_step\n",
      "INFO:tensorflow:Loading model from checkpoint: .\\skip_thoughts_uni_2017_02_02\\model.ckpt-501424\n",
      "INFO:tensorflow:Restoring parameters from .\\skip_thoughts_uni_2017_02_02\\model.ckpt-501424\n",
      "INFO:tensorflow:Successfully loaded checkpoint: model.ckpt-501424\n"
     ]
    }
   ],
   "source": [
    "# Set up the encoder. Here we are using a single unidirectional model.\n",
    "# To use a bidirectional model as well, call load_model() again with\n",
    "# configuration.model_config(bidirectional_encoder=True) and paths to the\n",
    "# bidirectional model's files. The encoder will use the concatenation of\n",
    "# all loaded models.\n",
    "encoder = encoder_manager.EncoderManager()\n",
    "encoder.load_model(configuration.model_config(),\n",
    "                   vocabulary_file=VOCAB_FILE,\n",
    "                   embedding_matrix_file=EMBEDDING_MATRIX_FILE,\n",
    "                   checkpoint_path=CHECKPOINT_PATH)\n"
   ]
  },
  {
   "cell_type": "code",
   "execution_count": 6,
   "metadata": {},
   "outputs": [],
   "source": [
    "data = [\"Hello World\",\"this is my first skip thought\"]"
   ]
  },
  {
   "cell_type": "code",
   "execution_count": 7,
   "metadata": {},
   "outputs": [],
   "source": [
    "encodings = encoder.encode(data)"
   ]
  },
  {
   "cell_type": "code",
   "execution_count": 8,
   "metadata": {},
   "outputs": [
    {
     "name": "stdout",
     "output_type": "stream",
     "text": [
      "(2, 2400)\n"
     ]
    }
   ],
   "source": [
    "print(encodings.shape)"
   ]
  },
  {
   "cell_type": "code",
   "execution_count": null,
   "metadata": {},
   "outputs": [],
   "source": []
  }
 ],
 "metadata": {
  "kernelspec": {
   "display_name": "Python 3",
   "language": "python",
   "name": "python3"
  },
  "language_info": {
   "codemirror_mode": {
    "name": "ipython",
    "version": 3
   },
   "file_extension": ".py",
   "mimetype": "text/x-python",
   "name": "python",
   "nbconvert_exporter": "python",
   "pygments_lexer": "ipython3",
   "version": "3.6.12"
  }
 },
 "nbformat": 4,
 "nbformat_minor": 4
}
