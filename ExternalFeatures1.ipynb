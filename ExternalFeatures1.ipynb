{
  "nbformat": 4,
  "nbformat_minor": 0,
  "metadata": {
    "colab": {
      "name": "ExternalFeatures.ipynb",
      "provenance": [],
      "collapsed_sections": []
    },
    "kernelspec": {
      "name": "python3",
      "display_name": "Python 3"
    }
  },
  "cells": [
    {
      "cell_type": "code",
      "metadata": {
        "colab": {
          "base_uri": "https://localhost:8080/"
        },
        "id": "O-SZbmvPm4_a",
        "outputId": "4099bbb8-8b7c-4a9b-9717-9a3d7f1a2838"
      },
      "source": [
        "from google.colab import drive\n",
        "drive.mount('/content/drive')"
      ],
      "execution_count": 1,
      "outputs": [
        {
          "output_type": "stream",
          "text": [
            "Mounted at /content/drive\n"
          ],
          "name": "stdout"
        }
      ]
    },
    {
      "cell_type": "code",
      "metadata": {
        "id": "xPoV44U1Besz"
      },
      "source": [
        "import numpy as np\n",
        "import matplotlib.pyplot as plt\n",
        "from nltk import ngrams, bigrams\n",
        "import csv"
      ],
      "execution_count": 32,
      "outputs": []
    },
    {
      "cell_type": "code",
      "metadata": {
        "id": "0jfxJTW7nF_F"
      },
      "source": [
        "file = open(\"/content/drive/My Drive/fnc-1/FinalTrainSet.csv\",mode=\"r\")"
      ],
      "execution_count": 18,
      "outputs": []
    },
    {
      "cell_type": "code",
      "metadata": {
        "id": "cVE5cRrbCRIi"
      },
      "source": [
        "indices = np.load('/content/drive/My Drive/fnc-1/labels_done_train.npy')"
      ],
      "execution_count": 33,
      "outputs": []
    },
    {
      "cell_type": "code",
      "metadata": {
        "id": "OP16QuWzr0lS"
      },
      "source": [
        "headline = []\n",
        "body = []"
      ],
      "execution_count": 20,
      "outputs": []
    },
    {
      "cell_type": "code",
      "metadata": {
        "id": "X1ccy6PormLr"
      },
      "source": [
        "my_reader = csv.reader(file, delimiter=',')\n",
        "for i,row in enumerate(my_reader):\n",
        "  if(i>=1):\n",
        "    headline.append(row[1])\n",
        "    body.append(row[2])"
      ],
      "execution_count": null,
      "outputs": []
    },
    {
      "cell_type": "code",
      "metadata": {
        "colab": {
          "base_uri": "https://localhost:8080/"
        },
        "id": "D_Il8oaKroz9",
        "outputId": "2c56c4da-2903-4899-d5e0-831bffdf3727"
      },
      "source": [
        "print(len(headline))\n",
        "print(len(body))"
      ],
      "execution_count": 22,
      "outputs": [
        {
          "output_type": "stream",
          "text": [
            "49972\n",
            "49972\n"
          ],
          "name": "stdout"
        }
      ]
    },
    {
      "cell_type": "code",
      "metadata": {
        "id": "M6GD7FQwsCLr"
      },
      "source": [
        "def print_news(n):\n",
        "  print(headline[n])\n",
        "  print(body[n])"
      ],
      "execution_count": 25,
      "outputs": []
    },
    {
      "cell_type": "code",
      "metadata": {
        "colab": {
          "base_uri": "https://localhost:8080/"
        },
        "id": "CcXrdeo8BT5e",
        "outputId": "b0123c5c-a22c-42d0-fac7-d191c839e999"
      },
      "source": [
        "print_news(49000)"
      ],
      "execution_count": 31,
      "outputs": [
        {
          "output_type": "stream",
          "text": [
            "Seth Rogen to play Steve Wozniak alongside Christian Bale Steve Jobs\n",
            "Seth Rogen just landed the role to play Christian Bale’s sidekick in Sony’s upcoming biopic on Steve Jobs.Rogen will reportedly don the mantle of Steve Wozniak, according to Variety, in the film written by Aaron Sorkin and directed by Danny Boyle.The film is based on Walter Isaacson’s biography on Steve, and is said to be divided into three long scenes that take place backstage before Apple product launches. Sorkin says the film will portray Jobs as part-hero, part anti-hero, leaving Rogen plenty of room to bring in some comedic relief.Steve Wozniak co-founded Apple with Steve Jobs and was the engineer behind the Apple I and Apple II computers that made Apple a household name in the 1970s. Woz left Apple in 1987, but he still pops up at Apple events and in the headlines with his commentary on the state of tech.Rogen starred in ‘Neighbors’ earlier this year and will be in ‘The Interview’ with James Franco. Other actors haven’t been announced for the Steve Jobs film, but Scott Rudin Mark Gordon and Guymon Casady have been tapped as producers, with shooting rumored to start in Spring of 2015.\n"
          ],
          "name": "stdout"
        }
      ]
    },
    {
      "cell_type": "code",
      "metadata": {
        "id": "ggZahmogCo6-"
      },
      "source": [
        "sentence1 = 'My name is T Sanjev Vishnu'\n",
        "sentence2 = 'My name is Steve Jobs, Apple Inc, Palo Alto, CAL'"
      ],
      "execution_count": 71,
      "outputs": []
    },
    {
      "cell_type": "code",
      "metadata": {
        "id": "ml-Xej5kHzqc"
      },
      "source": [
        "g1 = ngrams(sentence1.split(), 2)\n",
        "g2 = ngrams(sentence2.split(), 2)\n",
        "g_1 = [g for g in g1]\n",
        "g_2 = [g for g in g2]"
      ],
      "execution_count": 77,
      "outputs": []
    },
    {
      "cell_type": "code",
      "metadata": {
        "id": "Hd5NNUlQH7bM"
      },
      "source": [
        "similar_elements = list(set(g_1).intersection(g_2))\n",
        "n_similar_elements = len(set(g_1).intersection(g_2))"
      ],
      "execution_count": 86,
      "outputs": []
    },
    {
      "cell_type": "code",
      "metadata": {
        "colab": {
          "base_uri": "https://localhost:8080/"
        },
        "id": "aalgjV1mI2or",
        "outputId": "66da6ee3-5f19-4802-a6ac-0e8291396889"
      },
      "source": [
        "print(similar_elements, n_similar_elements)"
      ],
      "execution_count": 87,
      "outputs": [
        {
          "output_type": "stream",
          "text": [
            "[('name', 'is'), ('My', 'name')] 2\n"
          ],
          "name": "stdout"
        }
      ]
    },
    {
      "cell_type": "code",
      "metadata": {
        "id": "zgH4SV2FDj1u"
      },
      "source": [
        "n = 2\n",
        "grams = ngrams(headline[0].split(), n)"
      ],
      "execution_count": 75,
      "outputs": []
    },
    {
      "cell_type": "code",
      "metadata": {
        "colab": {
          "base_uri": "https://localhost:8080/"
        },
        "id": "wd2qsMILD0tc",
        "outputId": "f515a5ba-be73-4a31-af19-6b72a6cc732b"
      },
      "source": [
        "print(bigrams)"
      ],
      "execution_count": 45,
      "outputs": [
        {
          "output_type": "stream",
          "text": [
            "<generator object ngrams at 0x7fccdb721830>\n"
          ],
          "name": "stdout"
        }
      ]
    },
    {
      "cell_type": "code",
      "metadata": {
        "id": "7Ys3BFqXD9kW"
      },
      "source": [
        "def number_of_similar_grams(n, news):\n",
        "  grams_n_h = ngrams(headline[news].split(), n)\n",
        "  grams_n_b = ngrams(body[news].split(), n)\n",
        "  g_h = [g for g in grams_n_h]\n",
        "  g_b = [g for g in grams_n_b]\n",
        "  similar_elements = list(set(g_h).intersection(g_b))\n",
        "  n_similar_elements = len(set(g_h).intersection(g_b))\n",
        "  #print(news, similar_elements, n_similar_elements)\n",
        "  return n_similar_elements"
      ],
      "execution_count": 149,
      "outputs": []
    },
    {
      "cell_type": "markdown",
      "metadata": {
        "id": "0am04zBqOKvf"
      },
      "source": [
        "This is done to find the length of n-grams which matter"
      ]
    },
    {
      "cell_type": "code",
      "metadata": {
        "colab": {
          "base_uri": "https://localhost:8080/"
        },
        "id": "w117VqdxKEDO",
        "outputId": "a9bbe5f0-7e84-48df-f905-ae232d5ca6ab"
      },
      "source": [
        "l_headlines = [len(h.split()) for h in headline]\n",
        "print(max(l_headlines))"
      ],
      "execution_count": 150,
      "outputs": [
        {
          "output_type": "stream",
          "text": [
            "40\n"
          ],
          "name": "stdout"
        }
      ]
    },
    {
      "cell_type": "code",
      "metadata": {
        "id": "GV8kYYnTJuW2"
      },
      "source": [
        "def feature_vector_1(number_of_news, chosen_grams):\n",
        "  feature_space = []\n",
        "  for i in range(number_of_news):\n",
        "    f1 = []\n",
        "    for j in chosen_grams:\n",
        "      f = number_of_similar_grams(j, i)\n",
        "      f1.append(f)\n",
        "    #print(f1)\n",
        "    feature_space.append(f1)\n",
        "  return feature_space"
      ],
      "execution_count": 174,
      "outputs": []
    },
    {
      "cell_type": "code",
      "metadata": {
        "colab": {
          "base_uri": "https://localhost:8080/"
        },
        "id": "W3m0XTw6Mm_Q",
        "outputId": "a71a897c-57eb-4972-c4ef-6a5d873b1921"
      },
      "source": [
        "fsp = feature_vector_1(10000, [2, 3, 4, 5, 6])"
      ],
      "execution_count": 184,
      "outputs": [
        {
          "output_type": "stream",
          "text": [
            "/usr/local/lib/python3.6/dist-packages/ipykernel_launcher.py:4: DeprecationWarning: generator 'ngrams' raised StopIteration\n",
            "  after removing the cwd from sys.path.\n"
          ],
          "name": "stderr"
        }
      ]
    }
  ]
}