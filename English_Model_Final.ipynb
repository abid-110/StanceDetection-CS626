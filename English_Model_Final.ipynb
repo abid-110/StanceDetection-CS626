{
 "cells": [
  {
   "cell_type": "code",
   "execution_count": null,
   "metadata": {
    "id": "-Vm_jjFNR2Lw"
   },
   "outputs": [],
   "source": [
    "# Import all the necessary packages and functions to run the model\n",
    "from keras.models import Sequential\n",
    "from keras.models import Model\n",
    "from keras.layers import Input,Dense,Concatenate, BatchNormalization\n",
    "from keras.optimizers import Adam\n",
    "import tensorflow as tf\n",
    "from sklearn.metrics import classification_report\n",
    "from keras import backend as K\n",
    "import numpy as np\n",
    "import pandas as pd\n",
    "import keras\n",
    "from sklearn.metrics import classification_report\n",
    "from sklearn.metrics import confusion_matrix"
   ]
  },
  {
   "cell_type": "code",
   "execution_count": null,
   "metadata": {
    "id": "cLpwW68TvAXu"
   },
   "outputs": [],
   "source": [
    "# Loading all the arrays\n",
    "train_index = np.load('./Data/labels_done_train.npy')\n",
    "test_index = np.load('./Data/labels_done_test.npy')\n",
    "\n",
    "train_external = np.load('./Data/english_train_external.npy')\n",
    "test_external = np.load('./Data/english_test_external.npy')\n",
    "\n",
    "train_neural = np.load('./Data/english_train_neural.npy')\n",
    "test_neural = np.load('./Data/english_test_neural.npy')\n",
    "\n",
    "train_statistical = np.load('./Data/english_train_statistical.npy')\n",
    "test_statistical = np.load('./Data/english_test_statistical.npy')"
   ]
  },
  {
   "cell_type": "code",
   "execution_count": null,
   "metadata": {
    "id": "dxQlib0Mkiks"
   },
   "outputs": [],
   "source": [
    "stance_to_index = {'agree':0,'disagree':1,'discuss':2,'unrelated':3}\n",
    "index_to_stance = {0:'agree',1:'disagree',2:'discuss',3:'unrelated'}"
   ]
  },
  {
   "cell_type": "code",
   "execution_count": null,
   "metadata": {
    "id": "pVTiMaX9oJXm"
   },
   "outputs": [],
   "source": [
    "df_train = pd.read_csv('./Data/FinalTrainSet.csv')\n",
    "Y_temp = df_train[['Stance']]\n",
    "Y_temp = Y_temp.values.tolist()\n",
    "Y_train = [stance_to_index[Y_temp[i][0]] for i in train_index] "
   ]
  },
  {
   "cell_type": "code",
   "execution_count": null,
   "metadata": {},
   "outputs": [],
   "source": [
    "df_test = pd.read_csv('./Data/FinalTestSet.csv')\n",
    "Y_temp1 = df_test[['Stance']]\n",
    "Y_temp1 = Y_temp1.values.tolist()\n",
    "Y_test = [stance_to_index[Y_temp1[i][0]] for i in test_index]\n",
    "Y_check = Y_test"
   ]
  },
  {
   "cell_type": "code",
   "execution_count": null,
   "metadata": {
    "id": "p_SetTBv1COR"
   },
   "outputs": [],
   "source": [
    "def to_categorical(sequences, categories):\n",
    "    cat_sequences = []\n",
    "    for s in sequences:\n",
    "        cats = np.zeros(categories,dtype=float)\n",
    "        cats[s] = 1.0\n",
    "        #for item in s:\n",
    "            \n",
    "            \n",
    "        cat_sequences.append(cats)\n",
    "    return np.array(cat_sequences)"
   ]
  },
  {
   "cell_type": "code",
   "execution_count": null,
   "metadata": {},
   "outputs": [],
   "source": [
    "Y_train = to_categorical(Y_train, len(stance_to_index))"
   ]
  },
  {
   "cell_type": "code",
   "execution_count": null,
   "metadata": {
    "id": "TmCMllUTfiN5"
   },
   "outputs": [],
   "source": [
    "# Defining the model paramaters. For more information, refer to the project report. \n",
    "\n",
    "inputA = Input(shape=(4800,))\n",
    "inputB = Input(shape=(10000,))\n",
    "inputC = Input(shape=(21,))\n",
    "# the first branch operates on the first input\n",
    "x = Dense(2048, activation=\"relu\")(inputA)\n",
    "x = Dense(1024,activation='relu')(x)\n",
    "x = Dense(512,activation='relu')(x)\n",
    "x = Dense(256, activation=\"relu\")(x)\n",
    "x = Dense(128,activation='relu')(x)\n",
    "x_model = Model(inputs=inputA, outputs=x)\n",
    "# the second branch opreates on the second input\n",
    "y = Dense(512, activation=\"relu\")(inputB)\n",
    "y = Dense(256,activation='relu')(inputB)\n",
    "y = Dense(128, activation=\"relu\")(y)\n",
    "y = Dense(64,activation='relu')(y)\n",
    "y_model = Model(inputs=inputB, outputs=y)\n",
    "\n",
    "z = Dense(4, activation = \"relu\")(inputC)\n",
    "z_model = Model(inputs = inputC, outputs = z)\n",
    "# combine the output of the three branches\n",
    "combined = Concatenate()([x_model.output, z_model.output, y_model.output])\n",
    "# apply a FC layer and then a regression prediction on the\n",
    "# combined outputs\n",
    "z1 = BatchNormalization()(combined)\n",
    "#z = Dense(2, activation=\"relu\")(combined)\n",
    "z1 = Dense(4, activation=\"softmax\")(z1)\n",
    "# our model will accept the inputs of the two branches and\n",
    "# then output a single value\n",
    "model = Model(inputs=[x_model.inputs, z_model.inputs,  y_model.inputs], outputs=z1)"
   ]
  },
  {
   "cell_type": "code",
   "execution_count": null,
   "metadata": {
    "colab": {
     "base_uri": "https://localhost:8080/"
    },
    "id": "eZVgG2C4rIzE",
    "outputId": "f440da3a-bb0f-4f0e-fb2b-422a6fe24a94"
   },
   "outputs": [],
   "source": [
    "model.summary()"
   ]
  },
  {
   "cell_type": "code",
   "execution_count": null,
   "metadata": {
    "id": "CwmYDRFbMbNw"
   },
   "outputs": [],
   "source": [
    "model.compile(loss='categorical_crossentropy',optimizer=Adam(0.001),metrics=['accuracy'])\n"
   ]
  },
  {
   "cell_type": "code",
   "execution_count": null,
   "metadata": {
    "id": "q_4H2zW8pJFw"
   },
   "outputs": [],
   "source": [
    "model.fit(x = [train_neural,train_external,train_statistical], y = np.array(Y_train),batch_size=8,epochs=8,validation_split=0.2,shuffle=True)"
   ]
  },
  {
   "cell_type": "code",
   "execution_count": null,
   "metadata": {},
   "outputs": [],
   "source": [
    "def ret_tags(sequences, index):\n",
    "    tags = []\n",
    "    for sequence in sequences:\n",
    "        temp = index[np.argmax(sequence)]\n",
    "        \n",
    "        #temp.append(index[np.argmax(sequence)])\n",
    " \n",
    "        tags.append(temp)\n",
    " \n",
    "    return tags"
   ]
  },
  {
   "cell_type": "code",
   "execution_count": null,
   "metadata": {},
   "outputs": [],
   "source": [
    "scores = model.evaluate([test_neural,test_external,test_statistical], to_categorical(Y_test, len(stance_to_index))) \n",
    "\n",
    "print(f\"{model.metrics_names[1]}: {scores[1] * 100}\")"
   ]
  },
  {
   "cell_type": "code",
   "execution_count": null,
   "metadata": {
    "id": "znewx8evpfu7"
   },
   "outputs": [],
   "source": [
    "y_pred = model.predict(x = [train_neural,train_external,train_statistical])\n",
    "predictions = ret_tags(y_pred, {i: t for t, i in stance_to_index.items()})"
   ]
  },
  {
   "cell_type": "code",
   "execution_count": null,
   "metadata": {},
   "outputs": [],
   "source": [
    "Yres = [index_to_stance[x] for x in Y_check]"
   ]
  },
  {
   "cell_type": "code",
   "execution_count": null,
   "metadata": {},
   "outputs": [],
   "source": [
    "# Classification Report\n",
    "print(classification_report(Yres, predictions))"
   ]
  },
  {
   "cell_type": "code",
   "execution_count": null,
   "metadata": {},
   "outputs": [],
   "source": [
    "cm = confusion_matrix(Yres,predictions)"
   ]
  },
  {
   "cell_type": "code",
   "execution_count": null,
   "metadata": {},
   "outputs": [],
   "source": [
    "def plot_confusion_matrix(cm,\n",
    "                          target_names,\n",
    "                          title='Confusion matrix',\n",
    "                          cmap=None,\n",
    "                          normalize=True):\n",
    "    \"\"\"\n",
    "    given a sklearn confusion matrix (cm), make a nice plot\n",
    "\n",
    "    Arguments\n",
    "    ---------\n",
    "    cm:           confusion matrix from sklearn.metrics.confusion_matrix\n",
    "\n",
    "    target_names: given classification classes such as [0, 1, 2]\n",
    "                  the class names, for example: ['high', 'medium', 'low']\n",
    "\n",
    "    title:        the text to display at the top of the matrix\n",
    "\n",
    "    cmap:         the gradient of the values displayed from matplotlib.pyplot.cm\n",
    "                  see http://matplotlib.org/examples/color/colormaps_reference.html\n",
    "                  plt.get_cmap('jet') or plt.cm.Blues\n",
    "\n",
    "    normalize:    If False, plot the raw numbers\n",
    "                  If True, plot the proportions\n",
    "\n",
    "    Usage\n",
    "    -----\n",
    "    plot_confusion_matrix(cm           = cm,                  # confusion matrix created by\n",
    "                                                              # sklearn.metrics.confusion_matrix\n",
    "                          normalize    = True,                # show proportions\n",
    "                          target_names = y_labels_vals,       # list of names of the classes\n",
    "                          title        = best_estimator_name) # title of graph\n",
    "\n",
    "    Citiation\n",
    "    ---------\n",
    "    http://scikit-learn.org/stable/auto_examples/model_selection/plot_confusion_matrix.html\n",
    "\n",
    "    \"\"\"\n",
    "    import matplotlib.pyplot as plt\n",
    "    import numpy as np\n",
    "    import itertools\n",
    "\n",
    "    accuracy = np.trace(cm) / float(np.sum(cm))\n",
    "    misclass = 1 - accuracy\n",
    "\n",
    "    if cmap is None:\n",
    "        cmap = plt.get_cmap('Blues')\n",
    "\n",
    "    plt.figure(figsize=(8, 6))\n",
    "    plt.imshow(cm, interpolation='nearest', cmap=cmap)\n",
    "    plt.title(title)\n",
    "    plt.colorbar()\n",
    "\n",
    "    if target_names is not None:\n",
    "        tick_marks = np.arange(len(target_names))\n",
    "        plt.xticks(tick_marks, target_names, rotation=45)\n",
    "        plt.yticks(tick_marks, target_names)\n",
    "\n",
    "    if normalize:\n",
    "        cm = cm.astype('float') / cm.sum(axis=1)[:, np.newaxis]\n",
    "\n",
    "\n",
    "    thresh = cm.max() / 1.5 if normalize else cm.max() / 2\n",
    "    for i, j in itertools.product(range(cm.shape[0]), range(cm.shape[1])):\n",
    "        if normalize:\n",
    "            plt.text(j, i, \"{:0.4f}\".format(cm[i, j]),\n",
    "                     horizontalalignment=\"center\",\n",
    "                     color=\"white\" if cm[i, j] > thresh else \"black\")\n",
    "        else:\n",
    "            plt.text(j, i, \"{:,}\".format(cm[i, j]),\n",
    "                     horizontalalignment=\"center\",\n",
    "                     color=\"white\" if cm[i, j] > thresh else \"black\")\n",
    "\n",
    "\n",
    "    plt.tight_layout()\n",
    "    plt.ylabel('True label')\n",
    "    plt.xlabel('Predicted label')\n",
    "    plt.show()"
   ]
  },
  {
   "cell_type": "code",
   "execution_count": null,
   "metadata": {},
   "outputs": [],
   "source": [
    "# Plotting the confusion matrix\n",
    "\n",
    "plot_confusion_matrix(cm,normalize=False,target_names = ['agree','disagree','discuss','unrelated'],title='Confusion Matrix for Stance Detection on the test data')"
   ]
  },
  {
   "cell_type": "code",
   "execution_count": null,
   "metadata": {},
   "outputs": [],
   "source": [
    "# Saving the Model\n",
    "model.save('./Data/FinalEngModel.h5')"
   ]
  }
 ],
 "metadata": {
  "accelerator": "GPU",
  "colab": {
   "collapsed_sections": [],
   "machine_shape": "hm",
   "name": "model.ipynb",
   "provenance": []
  },
  "kernelspec": {
   "display_name": "Python 3",
   "language": "python",
   "name": "python3"
  },
  "language_info": {
   "codemirror_mode": {
    "name": "ipython",
    "version": 3
   },
   "file_extension": ".py",
   "mimetype": "text/x-python",
   "name": "python",
   "nbconvert_exporter": "python",
   "pygments_lexer": "ipython3",
   "version": "3.8.5"
  }
 },
 "nbformat": 4,
 "nbformat_minor": 1
}
