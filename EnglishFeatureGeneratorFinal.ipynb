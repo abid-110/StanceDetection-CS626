{
 "cells": [
  {
   "cell_type": "markdown",
   "metadata": {},
   "source": [
    "To run this notebook, you need to install tensorflow 1.9 and the skip-thoughts package\n",
    "\n",
    "Please follow the steps below - \n",
    "\n",
    "1. Create a new environment with python version 3.7.1 and install tensorflow 1.9.0 on it \n",
    "2. Install the skip-thoughts package with 'pip install skip-thoughts'\n",
    "\n",
    "After installation, you need to download the model zip files for skip-thought. Run the following commands to do so - \n",
    "\n",
    "1. wget \"http://download.tensorflow.org/models/skip_thoughts_bi_2017_02_16.tar.gz\"\n",
    "\n",
    "2. tar -xvf skip_thoughts_bi_2017_02_16.tar.gz\n",
    "\n",
    "3. rm skip_thoughts_bi_2017_02_16.tar.gz\n",
    "\n",
    "Once this process has been completed, you can continue running the cells below. Change the location of files accordingly in the code below. "
   ]
  },
  {
   "cell_type": "code",
   "execution_count": null,
   "metadata": {},
   "outputs": [],
   "source": [
    "# importing all necessary packages\n",
    "from __future__ import absolute_import\n",
    "from __future__ import division\n",
    "from __future__ import print_function\n",
    "import numpy as np\n",
    "import os.path\n",
    "import FeatureGenerator\n",
    "import pandas as pd"
   ]
  },
  {
   "cell_type": "code",
   "execution_count": null,
   "metadata": {},
   "outputs": [],
   "source": [
    "train_dataset_loc = './Data/FinalTrainSet.csv'\n",
    "test_dataset_loc = './Data/FinalTestSet.csv'"
   ]
  },
  {
   "cell_type": "markdown",
   "metadata": {},
   "source": [
    "# Creating Neural Features for dataset"
   ]
  },
  {
   "cell_type": "code",
   "execution_count": null,
   "metadata": {},
   "outputs": [],
   "source": [
    "# Train Set\n",
    "neural_features_train,labels_done_train = FeatureGenerator.neural_features(train_dataset_loc)\n",
    "print(len(labels_done_train))\n",
    "print(neural_features.train) # should be (len(labels_done_train),4800)"
   ]
  },
  {
   "cell_type": "code",
   "execution_count": null,
   "metadata": {},
   "outputs": [],
   "source": [
    "# Test Set\n",
    "neural_features_test,labels_done_test = FeatureGenerator.neural_features(test_dataset_loc)\n",
    "print(len(labels_done_test))\n",
    "print(neural_features.test) # should be (len(labels_done_test),4800)"
   ]
  },
  {
   "cell_type": "code",
   "execution_count": null,
   "metadata": {},
   "outputs": [],
   "source": [
    "# Saving the neural features\n",
    "np.save(arr=neural_features_train,file='./Data/english_train_neural.npy')\n",
    "np.save(arr=neural_features_test,file='./Data/english_test_neural.npy')\n",
    "np.save(arr=labels_done_train,file='./Data/labels_done_train.npy')\n",
    "np.save(arr=labels_done_test,file = './Data/labels_done_test.npy')"
   ]
  },
  {
   "cell_type": "markdown",
   "metadata": {},
   "source": [
    "# Creating Statistical Features for dataset"
   ]
  },
  {
   "cell_type": "code",
   "execution_count": null,
   "metadata": {},
   "outputs": [],
   "source": [
    "# Train Set\n",
    "statistical_features_train = FeatureGenerator.statistical_features(dataset_loc = train_dataset_loc, labels_done = labels_done_train)\n",
    "print(statistical_features_train.shape) # should be (len(labels_done_train),10000)"
   ]
  },
  {
   "cell_type": "code",
   "execution_count": null,
   "metadata": {},
   "outputs": [],
   "source": [
    "# Test Set\n",
    "statistical_features_test = FeatureGenerator.statistical_features(dataset_loc = test_dataset_loc, labels_done = labels_done_test)\n",
    "print(statistical_features_test.shape) # should be (len(labels_done_test),10000)"
   ]
  },
  {
   "cell_type": "code",
   "execution_count": null,
   "metadata": {},
   "outputs": [],
   "source": [
    "# Saving the statistical features\n",
    "np.save(arr=statistical_features_train,file='./Data/english_train_statistical.npy')\n",
    "np.save(arr=statistical_features_test,file='./Data/english_test_statistical.npy')"
   ]
  },
  {
   "cell_type": "markdown",
   "metadata": {},
   "source": [
    "# Creating External Features for dataset"
   ]
  },
  {
   "cell_type": "code",
   "execution_count": null,
   "metadata": {},
   "outputs": [],
   "source": [
    "#Train set\n",
    "external_features_train = FeatureGenerator.external_features(dataset_loc = train_dataset_loc, labels_done = labels_done_train)\n",
    "print(external_features_train.shape) # should be (len(labels_done_train),21)"
   ]
  },
  {
   "cell_type": "code",
   "execution_count": null,
   "metadata": {},
   "outputs": [],
   "source": [
    "#Test set\n",
    "external_features_test = FeatureGenerator.external_features(dataset_loc = test_dataset_loc, labels_done = labels_done_test)\n",
    "print(external_features_test.shape) # should be (len(labels_done_test),21)"
   ]
  },
  {
   "cell_type": "code",
   "execution_count": null,
   "metadata": {},
   "outputs": [],
   "source": [
    "# Saving external features\n",
    "np.save(arr=external_features_train,file = './Data/english_train_external.npy')\n",
    "np.save(arr=external_features_test,file='./Data/english_test_external.npy')"
   ]
  }
 ],
 "metadata": {
  "kernelspec": {
   "display_name": "Python 3",
   "language": "python",
   "name": "python3"
  },
  "language_info": {
   "codemirror_mode": {
    "name": "ipython",
    "version": 3
   },
   "file_extension": ".py",
   "mimetype": "text/x-python",
   "name": "python",
   "nbconvert_exporter": "python",
   "pygments_lexer": "ipython3",
   "version": "3.8.5"
  }
 },
 "nbformat": 4,
 "nbformat_minor": 4
}
