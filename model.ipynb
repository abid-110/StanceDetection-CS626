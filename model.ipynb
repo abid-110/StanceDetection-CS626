{
  "nbformat": 4,
  "nbformat_minor": 0,
  "metadata": {
    "colab": {
      "name": "model.ipynb",
      "provenance": []
    },
    "kernelspec": {
      "name": "python3",
      "display_name": "Python 3"
    }
  },
  "cells": [
    {
      "cell_type": "code",
      "metadata": {
        "id": "-Vm_jjFNR2Lw"
      },
      "source": [
        "from keras.models import Sequential\n",
        "from keras.models import Model\n",
        "from keras.layers import Input,Dense,Concatenate, BatchNormalization\n",
        "\n",
        "from keras.optimizers import Adam\n",
        "import tensorflow as tf\n",
        "from sklearn.metrics import classification_report\n",
        "from keras import backend as K\n"
      ],
      "execution_count": 25,
      "outputs": []
    },
    {
      "cell_type": "code",
      "metadata": {
        "id": "MnVDBvLEfDfC",
        "outputId": "79473115-0c86-47d3-d5ff-7c64abbacee5",
        "colab": {
          "base_uri": "https://localhost:8080/",
          "height": 496
        }
      },
      "source": [
        "import sys\n",
        "sys.path.append('/content/StanceDetection')\n",
        "import neuralfeaturegenerator\n",
        "import statisticalfeaturegenerator"
      ],
      "execution_count": 20,
      "outputs": [
        {
          "output_type": "error",
          "ename": "ModuleNotFoundError",
          "evalue": "ignored",
          "traceback": [
            "\u001b[0;31m---------------------------------------------------------------------------\u001b[0m",
            "\u001b[0;31mModuleNotFoundError\u001b[0m                       Traceback (most recent call last)",
            "\u001b[0;32m<ipython-input-20-9e2fcdb74b3e>\u001b[0m in \u001b[0;36m<module>\u001b[0;34m()\u001b[0m\n\u001b[1;32m      1\u001b[0m \u001b[0;32mimport\u001b[0m \u001b[0msys\u001b[0m\u001b[0;34m\u001b[0m\u001b[0;34m\u001b[0m\u001b[0m\n\u001b[1;32m      2\u001b[0m \u001b[0msys\u001b[0m\u001b[0;34m.\u001b[0m\u001b[0mpath\u001b[0m\u001b[0;34m.\u001b[0m\u001b[0mappend\u001b[0m\u001b[0;34m(\u001b[0m\u001b[0;34m'/content/StanceDetection'\u001b[0m\u001b[0;34m)\u001b[0m\u001b[0;34m\u001b[0m\u001b[0;34m\u001b[0m\u001b[0m\n\u001b[0;32m----> 3\u001b[0;31m \u001b[0;32mimport\u001b[0m \u001b[0mneuralfeaturegenerator\u001b[0m\u001b[0;34m\u001b[0m\u001b[0;34m\u001b[0m\u001b[0m\n\u001b[0m\u001b[1;32m      4\u001b[0m \u001b[0;32mimport\u001b[0m \u001b[0mstatisticalfeaturegenerator\u001b[0m\u001b[0;34m\u001b[0m\u001b[0;34m\u001b[0m\u001b[0m\n",
            "\u001b[0;32m/content/StanceDetection/neuralfeaturegenerator.py\u001b[0m in \u001b[0;36m<module>\u001b[0;34m()\u001b[0m\n\u001b[1;32m     30\u001b[0m \u001b[0;32mimport\u001b[0m \u001b[0mnumpy\u001b[0m \u001b[0;32mas\u001b[0m \u001b[0mnp\u001b[0m\u001b[0;34m\u001b[0m\u001b[0;34m\u001b[0m\u001b[0m\n\u001b[1;32m     31\u001b[0m \u001b[0;32mimport\u001b[0m \u001b[0mos\u001b[0m\u001b[0;34m.\u001b[0m\u001b[0mpath\u001b[0m\u001b[0;34m\u001b[0m\u001b[0;34m\u001b[0m\u001b[0m\n\u001b[0;32m---> 32\u001b[0;31m \u001b[0;32mfrom\u001b[0m \u001b[0mskip_thoughts\u001b[0m \u001b[0;32mimport\u001b[0m \u001b[0mconfiguration\u001b[0m\u001b[0;34m\u001b[0m\u001b[0;34m\u001b[0m\u001b[0m\n\u001b[0m\u001b[1;32m     33\u001b[0m \u001b[0;32mfrom\u001b[0m \u001b[0mskip_thoughts\u001b[0m \u001b[0;32mimport\u001b[0m \u001b[0mencoder_manager\u001b[0m\u001b[0;34m\u001b[0m\u001b[0;34m\u001b[0m\u001b[0m\n\u001b[1;32m     34\u001b[0m \u001b[0;32mimport\u001b[0m \u001b[0mcsv\u001b[0m\u001b[0;34m\u001b[0m\u001b[0;34m\u001b[0m\u001b[0m\n",
            "\u001b[0;31mModuleNotFoundError\u001b[0m: No module named 'skip_thoughts'",
            "",
            "\u001b[0;31m---------------------------------------------------------------------------\u001b[0;32m\nNOTE: If your import is failing due to a missing package, you can\nmanually install dependencies using either !pip or !apt.\n\nTo view examples of installing some common dependencies, click the\n\"Open Examples\" button below.\n\u001b[0;31m---------------------------------------------------------------------------\u001b[0m\n"
          ]
        }
      ]
    },
    {
      "cell_type": "code",
      "metadata": {
        "id": "TmCMllUTfiN5",
        "outputId": "a99545f0-93ad-4374-925a-925173863812",
        "colab": {
          "base_uri": "https://localhost:8080/"
        }
      },
      "source": [
        "inputA = Input(shape=(9600,))\n",
        "inputB = Input(shape=(20000,))\n",
        "# the first branch operates on the first input\n",
        "x = Dense(1024, activation=\"sigmoid\")(inputA)\n",
        "x = Dense(128, activation=\"sigmoid\")(x)\n",
        "x = Model(inputs=inputA, outputs=x)\n",
        "# the second branch opreates on the second input\n",
        "y = Dense(4096, activation=\"relu\")(inputB)\n",
        "y = Dense(256, activation=\"relu\")(y)\n",
        "y = Model(inputs=inputB, outputs=y)\n",
        "# combine the output of the two branches\n",
        "combined = Concatenate()([x.output, y.output])\n",
        "print(combined.shape)\n",
        "# apply a FC layer and then a regression prediction on the\n",
        "# combined outputs\n",
        "z = BatchNormalization()(combined)\n",
        "#z = Dense(2, activation=\"relu\")(combined)\n",
        "z = Dense(4, activation=\"linear\")(z)\n",
        "# our model will accept the inputs of the two branches and\n",
        "# then output a single value\n",
        "model = Model(inputs=[x.input, y.input], outputs=z)"
      ],
      "execution_count": 33,
      "outputs": [
        {
          "output_type": "stream",
          "text": [
            "(None, 384)\n"
          ],
          "name": "stdout"
        }
      ]
    },
    {
      "cell_type": "code",
      "metadata": {
        "id": "eZVgG2C4rIzE",
        "outputId": "ff050aa2-8cf7-4e97-9821-757b36d6075b",
        "colab": {
          "base_uri": "https://localhost:8080/"
        }
      },
      "source": [
        "model.summary()"
      ],
      "execution_count": 34,
      "outputs": [
        {
          "output_type": "stream",
          "text": [
            "Model: \"functional_71\"\n",
            "__________________________________________________________________________________________________\n",
            "Layer (type)                    Output Shape         Param #     Connected to                     \n",
            "==================================================================================================\n",
            "input_39 (InputLayer)           [(None, 9600)]       0                                            \n",
            "__________________________________________________________________________________________________\n",
            "input_40 (InputLayer)           [(None, 20000)]      0                                            \n",
            "__________________________________________________________________________________________________\n",
            "dense_76 (Dense)                (None, 1024)         9831424     input_39[0][0]                   \n",
            "__________________________________________________________________________________________________\n",
            "dense_78 (Dense)                (None, 4096)         81924096    input_40[0][0]                   \n",
            "__________________________________________________________________________________________________\n",
            "dense_77 (Dense)                (None, 128)          131200      dense_76[0][0]                   \n",
            "__________________________________________________________________________________________________\n",
            "dense_79 (Dense)                (None, 256)          1048832     dense_78[0][0]                   \n",
            "__________________________________________________________________________________________________\n",
            "concatenate_11 (Concatenate)    (None, 384)          0           dense_77[0][0]                   \n",
            "                                                                 dense_79[0][0]                   \n",
            "__________________________________________________________________________________________________\n",
            "batch_normalization_7 (BatchNor (None, 384)          1536        concatenate_11[0][0]             \n",
            "__________________________________________________________________________________________________\n",
            "dense_80 (Dense)                (None, 4)            1540        batch_normalization_7[0][0]      \n",
            "==================================================================================================\n",
            "Total params: 92,938,628\n",
            "Trainable params: 92,937,860\n",
            "Non-trainable params: 768\n",
            "__________________________________________________________________________________________________\n"
          ],
          "name": "stdout"
        }
      ]
    },
    {
      "cell_type": "code",
      "metadata": {
        "id": "CwmYDRFbMbNw"
      },
      "source": [
        ""
      ],
      "execution_count": null,
      "outputs": []
    }
  ]
}