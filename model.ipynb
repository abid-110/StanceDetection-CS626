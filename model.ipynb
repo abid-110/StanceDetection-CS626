{
  "nbformat": 4,
  "nbformat_minor": 0,
  "metadata": {
    "colab": {
      "name": "model.ipynb",
      "provenance": [],
      "collapsed_sections": [],
      "machine_shape": "hm"
    },
    "kernelspec": {
      "name": "python3",
      "display_name": "Python 3"
    },
    "accelerator": "GPU"
  },
  "cells": [
    {
      "cell_type": "code",
      "metadata": {
        "id": "-Vm_jjFNR2Lw"
      },
      "source": [
        "from keras.models import Sequential\n",
        "from keras.models import Model\n",
        "from keras.models import load_model\n",
        "from keras.layers import Input,Dense,Concatenate, BatchNormalization\n",
        "\n",
        "from keras.optimizers import Adam\n",
        "import tensorflow as tf\n",
        "from sklearn.metrics import classification_report\n",
        "from keras import backend as K\n",
        "import numpy as np\n",
        "import pandas as pd"
      ],
      "execution_count": 1,
      "outputs": []
    },
    {
      "cell_type": "code",
      "metadata": {
        "id": "GQlecdfBKDkE",
        "colab": {
          "base_uri": "https://localhost:8080/"
        },
        "outputId": "b62efc10-d9fc-47f5-d8cc-07d241ab0b3e"
      },
      "source": [
        "!pip install PyDrive\n",
        "from pydrive.auth import GoogleAuth\n",
        "from pydrive.drive import GoogleDrive\n",
        "from google.colab import auth\n",
        "from oauth2client.client import GoogleCredentials"
      ],
      "execution_count": 2,
      "outputs": [
        {
          "output_type": "stream",
          "text": [
            "Requirement already satisfied: PyDrive in /usr/local/lib/python3.6/dist-packages (1.3.1)\n",
            "Requirement already satisfied: PyYAML>=3.0 in /usr/local/lib/python3.6/dist-packages (from PyDrive) (3.13)\n",
            "Requirement already satisfied: google-api-python-client>=1.2 in /usr/local/lib/python3.6/dist-packages (from PyDrive) (1.7.12)\n",
            "Requirement already satisfied: oauth2client>=4.0.0 in /usr/local/lib/python3.6/dist-packages (from PyDrive) (4.1.3)\n",
            "Requirement already satisfied: google-auth>=1.4.1 in /usr/local/lib/python3.6/dist-packages (from google-api-python-client>=1.2->PyDrive) (1.17.2)\n",
            "Requirement already satisfied: uritemplate<4dev,>=3.0.0 in /usr/local/lib/python3.6/dist-packages (from google-api-python-client>=1.2->PyDrive) (3.0.1)\n",
            "Requirement already satisfied: google-auth-httplib2>=0.0.3 in /usr/local/lib/python3.6/dist-packages (from google-api-python-client>=1.2->PyDrive) (0.0.4)\n",
            "Requirement already satisfied: httplib2<1dev,>=0.17.0 in /usr/local/lib/python3.6/dist-packages (from google-api-python-client>=1.2->PyDrive) (0.17.4)\n",
            "Requirement already satisfied: six<2dev,>=1.6.1 in /usr/local/lib/python3.6/dist-packages (from google-api-python-client>=1.2->PyDrive) (1.15.0)\n",
            "Requirement already satisfied: rsa>=3.1.4 in /usr/local/lib/python3.6/dist-packages (from oauth2client>=4.0.0->PyDrive) (4.6)\n",
            "Requirement already satisfied: pyasn1-modules>=0.0.5 in /usr/local/lib/python3.6/dist-packages (from oauth2client>=4.0.0->PyDrive) (0.2.8)\n",
            "Requirement already satisfied: pyasn1>=0.1.7 in /usr/local/lib/python3.6/dist-packages (from oauth2client>=4.0.0->PyDrive) (0.4.8)\n",
            "Requirement already satisfied: setuptools>=40.3.0 in /usr/local/lib/python3.6/dist-packages (from google-auth>=1.4.1->google-api-python-client>=1.2->PyDrive) (50.3.2)\n",
            "Requirement already satisfied: cachetools<5.0,>=2.0.0 in /usr/local/lib/python3.6/dist-packages (from google-auth>=1.4.1->google-api-python-client>=1.2->PyDrive) (4.1.1)\n"
          ],
          "name": "stdout"
        }
      ]
    },
    {
      "cell_type": "code",
      "metadata": {
        "id": "LtkN8S5f7uE5"
      },
      "source": [
        "auth.authenticate_user()\n",
        "gauth = GoogleAuth()\n",
        "gauth.credentials = GoogleCredentials.get_application_default()\n",
        "drive = GoogleDrive(gauth)"
      ],
      "execution_count": 3,
      "outputs": []
    },
    {
      "cell_type": "code",
      "metadata": {
        "id": "Zxaxv0qMzgPW"
      },
      "source": [
        "# #2. Get the file\n",
        "# downloaded = drive.CreateFile({'id':\"1UvXY6AxUMkjT6YKKDXuvRqXX0G6IpJP9\"})   # replace the id with id of file you want to access\n",
        "# downloaded.GetContentFile('train_final.npy')"
      ],
      "execution_count": 4,
      "outputs": []
    },
    {
      "cell_type": "code",
      "metadata": {
        "id": "n25dOLVU78xE"
      },
      "source": [
        "#2. Get the file\n",
        "downloaded = drive.CreateFile({'id':\"1ocFitiwHqMAPF-QVQlroKqE5r7n4g7zT\"})   # replace the id with id of file you want to access\n",
        "downloaded.GetContentFile('train_labels.npy')"
      ],
      "execution_count": 5,
      "outputs": []
    },
    {
      "cell_type": "code",
      "metadata": {
        "id": "wpcbKBfI93eR"
      },
      "source": [
        "#2. Get the file\n",
        "downloaded = drive.CreateFile({'id':\"1SUBVmvp28XqmuXMGzywqQEEK657ZcMn2\"})   # replace the id with id of file you want to access\n",
        "downloaded.GetContentFile('test_labels.npy')"
      ],
      "execution_count": 6,
      "outputs": []
    },
    {
      "cell_type": "code",
      "metadata": {
        "id": "fsmfLXkd-L66"
      },
      "source": [
        "#2. Get the file\n",
        "downloaded = drive.CreateFile({'id':\"1pym5XouSsVqAPk4P68-CqDnBWYgc5hd5\"})   # replace the id with id of file you want to access\n",
        "downloaded.GetContentFile('train_neural.npy')"
      ],
      "execution_count": 7,
      "outputs": []
    },
    {
      "cell_type": "code",
      "metadata": {
        "id": "lonG92qy-7Pc"
      },
      "source": [
        "#2. Get the file\n",
        "downloaded = drive.CreateFile({'id':\"1jhTmt48K0clR5OyUkGTlVy2hOAfIJRtS\"})   # replace the id with id of file you want to access\n",
        "downloaded.GetContentFile('test_neural.npy')"
      ],
      "execution_count": 8,
      "outputs": []
    },
    {
      "cell_type": "code",
      "metadata": {
        "id": "gaJE-XorAFQ9"
      },
      "source": [
        "#2. Get the file\n",
        "downloaded = drive.CreateFile({'id':\"15ad2daklNuix8Y30YXjyOi0xRBkRRgZ1\"})   # replace the id with id of file you want to access\n",
        "downloaded.GetContentFile('train_statistical.npy')"
      ],
      "execution_count": 9,
      "outputs": []
    },
    {
      "cell_type": "code",
      "metadata": {
        "id": "vBsS4G4h__1q"
      },
      "source": [
        "#2. Get the file\n",
        "downloaded = drive.CreateFile({'id':\"19AzNiFH5XYys5JG9HduwytlxOlsLuhnE\"})   # replace the id with id of file you want to access\n",
        "downloaded.GetContentFile('test_statistical.npy')"
      ],
      "execution_count": 10,
      "outputs": []
    },
    {
      "cell_type": "code",
      "metadata": {
        "id": "rezy7Z1SAY22"
      },
      "source": [
        "#2. Get the file\n",
        "downloaded = drive.CreateFile({'id':\"1VW3zMqQ0ipGkNJBhDSV9fSeDn-wwCWi6\"})   # replace the id with id of file you want to access\n",
        "downloaded.GetContentFile('train_external.npy')"
      ],
      "execution_count": 11,
      "outputs": []
    },
    {
      "cell_type": "code",
      "metadata": {
        "id": "bFUuvUV9Alk2"
      },
      "source": [
        "#2. Get the file\n",
        "downloaded = drive.CreateFile({'id':\"1-0a8WKgtiIluHC9PxyqzHq_GnOghYLoz\"})   # replace the id with id of file you want to access\n",
        "downloaded.GetContentFile('test_external.npy')"
      ],
      "execution_count": 12,
      "outputs": []
    },
    {
      "cell_type": "code",
      "metadata": {
        "id": "JORGgogmgQ8-"
      },
      "source": [
        "#2. Get the file\n",
        "downloaded = drive.CreateFile({'id':\"113-gh1eSh4-bdlGbh01__v-oisiRkgAt\"})   # replace the id with id of file you want to access\n",
        "downloaded.GetContentFile('train.csv')"
      ],
      "execution_count": 13,
      "outputs": []
    },
    {
      "cell_type": "code",
      "metadata": {
        "id": "5pKZmYgygMFN"
      },
      "source": [
        "#2. Get the file\n",
        "downloaded = drive.CreateFile({'id':\"1Ry-nwu9UTgnNu91g7XfO55iKEeni-sQN\"})   # replace the id with id of file you want to access\n",
        "downloaded.GetContentFile('test.csv')"
      ],
      "execution_count": 14,
      "outputs": []
    },
    {
      "cell_type": "code",
      "metadata": {
        "id": "cLpwW68TvAXu"
      },
      "source": [
        "#train_labels = np.load('train_labels.npy')\n",
        "#test_labels = np.load('test_labels.npy').tolist()"
      ],
      "execution_count": 15,
      "outputs": []
    },
    {
      "cell_type": "code",
      "metadata": {
        "id": "vcHd-zMDvCV1"
      },
      "source": [
        "train_external = np.load('train_external.npy')\n",
        "# train_External = [x for x in train_external]\n",
        "# del train_external\n",
        "test_external = np.load('test_external.npy')"
      ],
      "execution_count": 16,
      "outputs": []
    },
    {
      "cell_type": "code",
      "metadata": {
        "id": "8LFAAanovEwh"
      },
      "source": [
        "train_neural = np.load('train_neural.npy')\n",
        "# train_Neural = [x for x in train_neural]\n",
        "# del train_neural\n",
        "test_neural = np.load('test_neural.npy')"
      ],
      "execution_count": 17,
      "outputs": []
    },
    {
      "cell_type": "code",
      "metadata": {
        "id": "Ar5o5f4cvKYd"
      },
      "source": [
        "train_statistical = np.load('train_statistical.npy')\n",
        "# train_Statistical = [x for x in train_statistical]\n",
        "# del train_statistical\n",
        "test_statistical = np.load('test_statistical.npy')"
      ],
      "execution_count": 18,
      "outputs": []
    },
    {
      "cell_type": "code",
      "metadata": {
        "id": "iWXKKa-cA3mG"
      },
      "source": [
        "train_index = np.load('train_labels.npy')\n",
        "test_index = np.load('test_labels.npy')"
      ],
      "execution_count": 19,
      "outputs": []
    },
    {
      "cell_type": "code",
      "metadata": {
        "id": "dxQlib0Mkiks"
      },
      "source": [
        "stance_to_index = {'agree':0,'disagree':1,'discuss':2,'unrelated':3}\n",
        "index_to_stance = {0:'agree',1:'disagree',2:'discuss',3:'unrelated'}"
      ],
      "execution_count": 20,
      "outputs": []
    },
    {
      "cell_type": "code",
      "metadata": {
        "id": "pVTiMaX9oJXm"
      },
      "source": [
        "df_train = pd.read_csv('train.csv')\n",
        "Y_temp = df_train[['Stance']]\n",
        "Y_temp = Y_temp.values.tolist()\n",
        "Y_train = [stance_to_index[Y_temp[i][0]] for i in train_index] \n",
        "Y_train = np.array(Y_train)"
      ],
      "execution_count": 21,
      "outputs": []
    },
    {
      "cell_type": "code",
      "metadata": {
        "colab": {
          "base_uri": "https://localhost:8080/"
        },
        "id": "YEW1ORkS2vUb",
        "outputId": "ca224f52-9aea-4141-afdf-d1c542eef368"
      },
      "source": [
        "Y_train"
      ],
      "execution_count": 22,
      "outputs": [
        {
          "output_type": "execute_result",
          "data": {
            "text/plain": [
              "array([3, 0, 3, ..., 3, 0, 2])"
            ]
          },
          "metadata": {
            "tags": []
          },
          "execution_count": 22
        }
      ]
    },
    {
      "cell_type": "code",
      "metadata": {
        "id": "cV0d9xpZTJsc"
      },
      "source": [
        "#Limiting class 4 examples to 3000\n",
        "counter = 0\n",
        "train_neural_new = []\n",
        "train_statistical_new = []\n",
        "train_external_new = []\n",
        "Y_train_new = []\n",
        "for i,y in enumerate(Y_train):\n",
        "    if y == 3:\n",
        "        counter+=1\n",
        "        if(counter<=3000):\n",
        "            Y_train_new.append(y)\n",
        "            train_neural_new.append(train_neural[i])\n",
        "            train_statistical_new.append(train_statistical[i])\n",
        "            train_external_new.append(train_external[i])\n",
        "            \n",
        "        else:\n",
        "            continue\n",
        "    else:\n",
        "        Y_train_new.append(y)\n",
        "        train_neural_new.append(train_neural[i])\n",
        "        train_statistical_new.append(train_statistical[i])\n",
        "        train_external_new.append(train_external[i])"
      ],
      "execution_count": 23,
      "outputs": []
    },
    {
      "cell_type": "code",
      "metadata": {
        "colab": {
          "base_uri": "https://localhost:8080/"
        },
        "id": "b1opms-PbV8L",
        "outputId": "2ff7a067-4e67-47ef-aadc-7964a7f2c35f"
      },
      "source": [
        "from collections import Counter\n",
        "print(Counter(Y_train_new).keys()) # equals to list(set(words))\n",
        "print(Counter(Y_train_new).values()) # counts the elements' frequency"
      ],
      "execution_count": 24,
      "outputs": [
        {
          "output_type": "stream",
          "text": [
            "dict_keys([3, 0, 2, 1])\n",
            "dict_values([3000, 1906, 4732, 399])\n"
          ],
          "name": "stdout"
        }
      ]
    },
    {
      "cell_type": "code",
      "metadata": {
        "id": "cPtAfE32zp68"
      },
      "source": [
        "# train = np.load('train_final.npy')\n",
        "# X_train = [x for x in train]\n",
        "# del train"
      ],
      "execution_count": 25,
      "outputs": []
    },
    {
      "cell_type": "code",
      "metadata": {
        "id": "p_SetTBv1COR"
      },
      "source": [
        "def to_categorical(sequences, categories):\n",
        "    cat_sequences = []\n",
        "    for s in sequences:\n",
        "        cats = np.zeros(categories,dtype=float)\n",
        "        cats[s] = 1.0\n",
        "        #for item in s:\n",
        "            \n",
        "            \n",
        "        cat_sequences.append(cats)\n",
        "    return np.array(cat_sequences)"
      ],
      "execution_count": 26,
      "outputs": []
    },
    {
      "cell_type": "code",
      "metadata": {
        "id": "3HKS8tat-TEI"
      },
      "source": [
        "#X_train[0].shape"
      ],
      "execution_count": 27,
      "outputs": []
    },
    {
      "cell_type": "code",
      "metadata": {
        "id": "4Wmb_Y_RmN1i"
      },
      "source": [
        "df_test = pd.read_csv('test.csv')\n",
        "Y_temp1 = df_test[['Stance']]\n",
        "Y_temp1 = Y_temp1.values.tolist()\n",
        "Y_test = [stance_to_index[Y_temp1[i][0]] for i in test_index]\n",
        "Y_check = Y_test"
      ],
      "execution_count": 28,
      "outputs": []
    },
    {
      "cell_type": "code",
      "metadata": {
        "id": "f3myScSB8MqM"
      },
      "source": [
        "#Limiting class 4 examples to 3000\n",
        "counter = 0\n",
        "test_neural_new = []\n",
        "test_statistical_new = []\n",
        "test_external_new = []\n",
        "Y_test_new = []\n",
        "for i,y in enumerate(Y_test):\n",
        "    if y == 3:\n",
        "        counter+=1\n",
        "        if(counter<=3000):\n",
        "            Y_test_new.append(y)\n",
        "            test_neural_new.append(test_neural[i])\n",
        "            test_statistical_new.append(test_statistical[i])\n",
        "            test_external_new.append(test_external[i])\n",
        "            \n",
        "        else:\n",
        "            continue\n",
        "    else:\n",
        "        Y_test_new.append(y)\n",
        "        test_neural_new.append(test_neural[i])\n",
        "        test_statistical_new.append(test_statistical[i])\n",
        "        test_external_new.append(test_external[i])"
      ],
      "execution_count": 29,
      "outputs": []
    },
    {
      "cell_type": "code",
      "metadata": {
        "id": "rxKyQMsrZKVY"
      },
      "source": [
        "Y_check_new = Y_test_new"
      ],
      "execution_count": 30,
      "outputs": []
    },
    {
      "cell_type": "code",
      "metadata": {
        "colab": {
          "base_uri": "https://localhost:8080/"
        },
        "id": "Nn5oOYTG7QrB",
        "outputId": "ed4890c7-f1f9-4768-bf00-5c1e100c9cbe"
      },
      "source": [
        "from collections import Counter\n",
        "print(Counter(Y_test).keys()) # equals to list(set(words))\n",
        "print(Counter(Y_test).values()) # counts the elements' frequency"
      ],
      "execution_count": 31,
      "outputs": [
        {
          "output_type": "stream",
          "text": [
            "dict_keys([3, 0, 2, 1])\n",
            "dict_values([10188, 1026, 2288, 425])\n"
          ],
          "name": "stdout"
        }
      ]
    },
    {
      "cell_type": "code",
      "metadata": {
        "colab": {
          "base_uri": "https://localhost:8080/"
        },
        "id": "gbc624IM8eoz",
        "outputId": "b2480caf-046f-4978-bdb2-3dd03d59aeb9"
      },
      "source": [
        "from collections import Counter\n",
        "print(Counter(Y_test_new).keys()) # equals to list(set(words))\n",
        "print(Counter(Y_test_new).values()) # counts the elements' frequency"
      ],
      "execution_count": 32,
      "outputs": [
        {
          "output_type": "stream",
          "text": [
            "dict_keys([3, 0, 2, 1])\n",
            "dict_values([3000, 1026, 2288, 425])\n"
          ],
          "name": "stdout"
        }
      ]
    },
    {
      "cell_type": "code",
      "metadata": {
        "id": "TmCMllUTfiN5"
      },
      "source": [
        "inputA = Input(shape=(4800,))\n",
        "inputB = Input(shape=(10000,))\n",
        "inputC = Input(shape=(21,))\n",
        "# the first branch operates on the first input\n",
        "x = Dense(2048, activation=\"relu\")(inputA)\n",
        "x = Dense(1024, activation=\"relu\")(x)\n",
        "x = Dense(512, activation=\"relu\")(x)\n",
        "x = Dense(256, activation=\"relu\")(x)\n",
        "x = Dense(128, activation=\"relu\")(x)\n",
        "x = Model(inputs=inputA, outputs=x)\n",
        "# the second branch opreates on the second input\n",
        "y = Dense(512, activation=\"relu\")(inputB)\n",
        "y = Dense(256, activation=\"relu\")(y)\n",
        "y = Dense(128, activation=\"relu\")(y)\n",
        "y = Dense(64, activation=\"relu\")(y)\n",
        "y = Model(inputs=inputB, outputs=y)\n",
        "\n",
        "z = Dense(4, activation = \"relu\")(inputC)\n",
        "z = Model(inputs = inputC, outputs = z)\n",
        "# combine the output of the three branches\n",
        "combined = Concatenate()([x.output, z.output, y.output])\n",
        "#print(combined.shape)\n",
        "# apply a FC layer and then a regression prediction on the\n",
        "# combined outputs\n",
        "z1 = BatchNormalization()(combined)\n",
        "#z = Dense(2, activation=\"relu\")(combined)\n",
        "z1 = Dense(4, activation=\"softmax\")(z1)\n",
        "# our model will accept the inputs of the two branches and\n",
        "# then output a single value\n",
        "model = Model(inputs=[x.input, z.input,  y.input], outputs=z1)"
      ],
      "execution_count": 33,
      "outputs": []
    },
    {
      "cell_type": "code",
      "metadata": {
        "id": "9fTMvwn20XN6"
      },
      "source": [
        "#len(X_train)"
      ],
      "execution_count": 34,
      "outputs": []
    },
    {
      "cell_type": "code",
      "metadata": {
        "id": "VLCvmbb20cCD"
      },
      "source": [
        "#type(X_train[0])"
      ],
      "execution_count": 35,
      "outputs": []
    },
    {
      "cell_type": "code",
      "metadata": {
        "id": "eZVgG2C4rIzE",
        "colab": {
          "base_uri": "https://localhost:8080/"
        },
        "outputId": "5b8a1645-3e28-4b2f-8a10-04f4c2decffc"
      },
      "source": [
        "model.summary()"
      ],
      "execution_count": 36,
      "outputs": [
        {
          "output_type": "stream",
          "text": [
            "Model: \"functional_7\"\n",
            "__________________________________________________________________________________________________\n",
            "Layer (type)                    Output Shape         Param #     Connected to                     \n",
            "==================================================================================================\n",
            "input_1 (InputLayer)            [(None, 4800)]       0                                            \n",
            "__________________________________________________________________________________________________\n",
            "dense (Dense)                   (None, 2048)         9832448     input_1[0][0]                    \n",
            "__________________________________________________________________________________________________\n",
            "input_2 (InputLayer)            [(None, 10000)]      0                                            \n",
            "__________________________________________________________________________________________________\n",
            "dense_1 (Dense)                 (None, 1024)         2098176     dense[0][0]                      \n",
            "__________________________________________________________________________________________________\n",
            "dense_5 (Dense)                 (None, 512)          5120512     input_2[0][0]                    \n",
            "__________________________________________________________________________________________________\n",
            "dense_2 (Dense)                 (None, 512)          524800      dense_1[0][0]                    \n",
            "__________________________________________________________________________________________________\n",
            "dense_6 (Dense)                 (None, 256)          131328      dense_5[0][0]                    \n",
            "__________________________________________________________________________________________________\n",
            "dense_3 (Dense)                 (None, 256)          131328      dense_2[0][0]                    \n",
            "__________________________________________________________________________________________________\n",
            "input_3 (InputLayer)            [(None, 21)]         0                                            \n",
            "__________________________________________________________________________________________________\n",
            "dense_7 (Dense)                 (None, 128)          32896       dense_6[0][0]                    \n",
            "__________________________________________________________________________________________________\n",
            "dense_4 (Dense)                 (None, 128)          32896       dense_3[0][0]                    \n",
            "__________________________________________________________________________________________________\n",
            "dense_9 (Dense)                 (None, 4)            88          input_3[0][0]                    \n",
            "__________________________________________________________________________________________________\n",
            "dense_8 (Dense)                 (None, 64)           8256        dense_7[0][0]                    \n",
            "__________________________________________________________________________________________________\n",
            "concatenate (Concatenate)       (None, 196)          0           dense_4[0][0]                    \n",
            "                                                                 dense_9[0][0]                    \n",
            "                                                                 dense_8[0][0]                    \n",
            "__________________________________________________________________________________________________\n",
            "batch_normalization (BatchNorma (None, 196)          784         concatenate[0][0]                \n",
            "__________________________________________________________________________________________________\n",
            "dense_10 (Dense)                (None, 4)            788         batch_normalization[0][0]        \n",
            "==================================================================================================\n",
            "Total params: 17,914,300\n",
            "Trainable params: 17,913,908\n",
            "Non-trainable params: 392\n",
            "__________________________________________________________________________________________________\n"
          ],
          "name": "stdout"
        }
      ]
    },
    {
      "cell_type": "code",
      "metadata": {
        "id": "CwmYDRFbMbNw"
      },
      "source": [
        "model.compile(loss=\"categorical_crossentropy\",optimizer=Adam(0.001),metrics=['accuracy'])\n"
      ],
      "execution_count": 37,
      "outputs": []
    },
    {
      "cell_type": "code",
      "metadata": {
        "id": "PZ8Y_8NJ5P6o"
      },
      "source": [
        "Y_train_new = np.array(Y_train_new)"
      ],
      "execution_count": 38,
      "outputs": []
    },
    {
      "cell_type": "code",
      "metadata": {
        "id": "Vfkv68i1ZIks"
      },
      "source": [
        "Y_train_new = to_categorical(Y_train_new,len(stance_to_index))"
      ],
      "execution_count": 39,
      "outputs": []
    },
    {
      "cell_type": "code",
      "metadata": {
        "id": "idJtc_lhU3Am"
      },
      "source": [
        "train_neural_new = np.array(train_neural_new)\n",
        "train_statistical_new = np.array(train_statistical_new)\n",
        "train_external_new = np.array(train_external_new)"
      ],
      "execution_count": 40,
      "outputs": []
    },
    {
      "cell_type": "code",
      "metadata": {
        "id": "TpReMuUQCFvP"
      },
      "source": [
        "Y_train = to_categorical(Y_train, len(stance_to_index))"
      ],
      "execution_count": 41,
      "outputs": []
    },
    {
      "cell_type": "code",
      "metadata": {
        "id": "vS0AQTMUBaiB"
      },
      "source": [
        "train_neural = np.array(train_neural)\n",
        "train_statistical = np.array(train_statistical)\n",
        "train_external = np.array(train_external)"
      ],
      "execution_count": 42,
      "outputs": []
    },
    {
      "cell_type": "code",
      "metadata": {
        "id": "8cO77DCTCdtW"
      },
      "source": [
        "#model.fit(x = [train_neural,train_external,train_statistical], y = np.array(Y_train),batch_size=8,\tepochs=5,validation_split=0.2)"
      ],
      "execution_count": 43,
      "outputs": []
    },
    {
      "cell_type": "code",
      "metadata": {
        "id": "q_4H2zW8pJFw",
        "colab": {
          "base_uri": "https://localhost:8080/"
        },
        "outputId": "2fbebb95-babc-4059-cbfb-5e1308581169"
      },
      "source": [
        "model.fit(x = [train_neural_new,train_external_new,train_statistical_new], y = np.array(Y_train_new),batch_size =8,epochs=8,validation_split=0.2)"
      ],
      "execution_count": 44,
      "outputs": [
        {
          "output_type": "stream",
          "text": [
            "Epoch 1/8\n",
            "1004/1004 [==============================] - 6s 6ms/step - loss: 0.6113 - accuracy: 0.7792 - val_loss: 0.4196 - val_accuracy: 0.8367\n",
            "Epoch 2/8\n",
            "1004/1004 [==============================] - 6s 6ms/step - loss: 0.3669 - accuracy: 0.8712 - val_loss: 0.3888 - val_accuracy: 0.8541\n",
            "Epoch 3/8\n",
            "1004/1004 [==============================] - 6s 6ms/step - loss: 0.2755 - accuracy: 0.9048 - val_loss: 0.3838 - val_accuracy: 0.8591\n",
            "Epoch 4/8\n",
            "1004/1004 [==============================] - 6s 6ms/step - loss: 0.2168 - accuracy: 0.9239 - val_loss: 0.3339 - val_accuracy: 0.8899\n",
            "Epoch 5/8\n",
            "1004/1004 [==============================] - 6s 6ms/step - loss: 0.1707 - accuracy: 0.9401 - val_loss: 0.3189 - val_accuracy: 0.9079\n",
            "Epoch 6/8\n",
            "1004/1004 [==============================] - 6s 6ms/step - loss: 0.1434 - accuracy: 0.9537 - val_loss: 0.2572 - val_accuracy: 0.9213\n",
            "Epoch 7/8\n",
            "1004/1004 [==============================] - 6s 6ms/step - loss: 0.1119 - accuracy: 0.9633 - val_loss: 0.2838 - val_accuracy: 0.9193\n",
            "Epoch 8/8\n",
            "1004/1004 [==============================] - 6s 6ms/step - loss: 0.0943 - accuracy: 0.9706 - val_loss: 0.3400 - val_accuracy: 0.9193\n"
          ],
          "name": "stdout"
        },
        {
          "output_type": "execute_result",
          "data": {
            "text/plain": [
              "<tensorflow.python.keras.callbacks.History at 0x7ff7609ec9b0>"
            ]
          },
          "metadata": {
            "tags": []
          },
          "execution_count": 44
        }
      ]
    },
    {
      "cell_type": "code",
      "metadata": {
        "id": "cgVFvq-F4pCM"
      },
      "source": [
        "def ret_tags(sequences, index):\n",
        "    tags = []\n",
        "    for sequence in sequences:\n",
        "        temp = index[np.argmax(sequence)]\n",
        "        \n",
        "        #temp.append(index[np.argmax(sequence)])\n",
        " \n",
        "        tags.append(temp)\n",
        " \n",
        "    return tags"
      ],
      "execution_count": 45,
      "outputs": []
    },
    {
      "cell_type": "code",
      "metadata": {
        "id": "pD1FdKIK-NiC"
      },
      "source": [
        "test_neural_new = np.array(test_neural_new)\n",
        "test_statistical_new = np.array(test_statistical_new)\n",
        "test_external_new = np.array(test_external_new)"
      ],
      "execution_count": 46,
      "outputs": []
    },
    {
      "cell_type": "code",
      "metadata": {
        "colab": {
          "base_uri": "https://localhost:8080/"
        },
        "id": "nyFMPkFe6Z0Q",
        "outputId": "30d129e2-1514-4742-96be-a7182e9add0f"
      },
      "source": [
        "!sudo pip install h5py"
      ],
      "execution_count": 47,
      "outputs": [
        {
          "output_type": "stream",
          "text": [
            "Requirement already satisfied: h5py in /usr/local/lib/python3.6/dist-packages (2.10.0)\n",
            "Requirement already satisfied: six in /usr/local/lib/python3.6/dist-packages (from h5py) (1.15.0)\n",
            "Requirement already satisfied: numpy>=1.7 in /usr/local/lib/python3.6/dist-packages (from h5py) (1.18.5)\n"
          ],
          "name": "stdout"
        }
      ]
    },
    {
      "cell_type": "code",
      "metadata": {
        "colab": {
          "base_uri": "https://localhost:8080/"
        },
        "id": "8gGjbECOwXOm",
        "outputId": "00d8bbb8-2be4-4c25-e26d-1cafbe6c7a2a"
      },
      "source": [
        "scores = model.evaluate([test_neural,test_external,test_statistical], to_categorical(Y_test, len(stance_to_index))) \n",
        "\n",
        "print(f\"{model.metrics_names[1]}: {scores[1] * 100}\")"
      ],
      "execution_count": 48,
      "outputs": [
        {
          "output_type": "stream",
          "text": [
            "436/436 [==============================] - 2s 4ms/step - loss: 0.5447 - accuracy: 0.8389\n",
            "accuracy: 83.8874101638794\n"
          ],
          "name": "stdout"
        }
      ]
    },
    {
      "cell_type": "code",
      "metadata": {
        "id": "OFmCE6_zHXq2"
      },
      "source": [
        "# #2. Get the file\n",
        "# downloaded = drive.CreateFile({'id':\"10yhV5Gz_xwJKQ9ZgmFBZEYTEi5r-YXFw\"})   # replace the id with id of file you want to access\n",
        "# downloaded.GetContentFile('model_main.h5')"
      ],
      "execution_count": 49,
      "outputs": []
    },
    {
      "cell_type": "code",
      "metadata": {
        "id": "FgVs-nAUHph0"
      },
      "source": [
        "#model_main = load_model('model_main.h5')"
      ],
      "execution_count": 50,
      "outputs": []
    },
    {
      "cell_type": "code",
      "metadata": {
        "id": "CdQ0ljQlHiNS"
      },
      "source": [
        "# scores = model_main.evaluate([test_neural,test_external,test_statistical], to_categorical(Y_test, len(stance_to_index))) \n",
        "\n",
        "# print(f\"{model_main.metrics_names[1]}: {scores[1] * 100}\")"
      ],
      "execution_count": 51,
      "outputs": []
    },
    {
      "cell_type": "code",
      "metadata": {
        "id": "YhgC4X0eHml0"
      },
      "source": [
        "pred = model.predict([test_neural,test_external,test_statistical])"
      ],
      "execution_count": 52,
      "outputs": []
    },
    {
      "cell_type": "code",
      "metadata": {
        "id": "OEJ9grntIRGJ"
      },
      "source": [
        "predictions = ret_tags(pred, {i: t for t, i in stance_to_index.items()})"
      ],
      "execution_count": 53,
      "outputs": []
    },
    {
      "cell_type": "code",
      "metadata": {
        "colab": {
          "base_uri": "https://localhost:8080/"
        },
        "id": "BFUriJS_Ke3u",
        "outputId": "f924c8cc-78d2-447a-c058-4d3fc3f30217"
      },
      "source": [
        "len(predictions)"
      ],
      "execution_count": 54,
      "outputs": [
        {
          "output_type": "execute_result",
          "data": {
            "text/plain": [
              "13927"
            ]
          },
          "metadata": {
            "tags": []
          },
          "execution_count": 54
        }
      ]
    },
    {
      "cell_type": "code",
      "metadata": {
        "colab": {
          "base_uri": "https://localhost:8080/"
        },
        "id": "4IAl32GoVQUW",
        "outputId": "f7f21d5f-6d30-4c8b-9d49-786bf25280c9"
      },
      "source": [
        "len(Y_check)"
      ],
      "execution_count": 55,
      "outputs": [
        {
          "output_type": "execute_result",
          "data": {
            "text/plain": [
              "13927"
            ]
          },
          "metadata": {
            "tags": []
          },
          "execution_count": 55
        }
      ]
    },
    {
      "cell_type": "code",
      "metadata": {
        "id": "Ej77XT7sI0KW"
      },
      "source": [
        "Yres = [index_to_stance[x] for x in Y_check]"
      ],
      "execution_count": 56,
      "outputs": []
    },
    {
      "cell_type": "code",
      "metadata": {
        "colab": {
          "base_uri": "https://localhost:8080/"
        },
        "id": "ZFi-O7k0I05M",
        "outputId": "c89a4aa8-f7d8-40ed-81b3-3bb80e68da6c"
      },
      "source": [
        "from sklearn.metrics import classification_report\n",
        "print(classification_report(Yres, predictions))"
      ],
      "execution_count": 57,
      "outputs": [
        {
          "output_type": "stream",
          "text": [
            "              precision    recall  f1-score   support\n",
            "\n",
            "       agree       0.17      0.04      0.07      1026\n",
            "    disagree       0.12      0.00      0.00       425\n",
            "     discuss       0.55      0.74      0.63      2288\n",
            "   unrelated       0.94      0.98      0.96     10188\n",
            "\n",
            "    accuracy                           0.84     13927\n",
            "   macro avg       0.45      0.44      0.42     13927\n",
            "weighted avg       0.79      0.84      0.81     13927\n",
            "\n"
          ],
          "name": "stdout"
        }
      ]
    },
    {
      "cell_type": "code",
      "metadata": {
        "id": "vDEiTUwBKRRo"
      },
      "source": [
        "from sklearn.metrics import confusion_matrix\n",
        "cm = confusion_matrix(Yres,predictions)"
      ],
      "execution_count": 58,
      "outputs": []
    },
    {
      "cell_type": "code",
      "metadata": {
        "id": "3S0fEXaiVthf"
      },
      "source": [
        "def plot_confusion_matrix(cm,\n",
        "                          target_names,\n",
        "                          title='Confusion matrix',\n",
        "                          cmap=None,\n",
        "                          normalize=True):\n",
        "    \"\"\"\n",
        "    given a sklearn confusion matrix (cm), make a nice plot\n",
        "\n",
        "    Arguments\n",
        "    ---------\n",
        "    cm:           confusion matrix from sklearn.metrics.confusion_matrix\n",
        "\n",
        "    target_names: given classification classes such as [0, 1, 2]\n",
        "                  the class names, for example: ['high', 'medium', 'low']\n",
        "\n",
        "    title:        the text to display at the top of the matrix\n",
        "\n",
        "    cmap:         the gradient of the values displayed from matplotlib.pyplot.cm\n",
        "                  see http://matplotlib.org/examples/color/colormaps_reference.html\n",
        "                  plt.get_cmap('jet') or plt.cm.Blues\n",
        "\n",
        "    normalize:    If False, plot the raw numbers\n",
        "                  If True, plot the proportions\n",
        "\n",
        "    Usage\n",
        "    -----\n",
        "    plot_confusion_matrix(cm           = cm,                  # confusion matrix created by\n",
        "                                                              # sklearn.metrics.confusion_matrix\n",
        "                          normalize    = True,                # show proportions\n",
        "                          target_names = y_labels_vals,       # list of names of the classes\n",
        "                          title        = best_estimator_name) # title of graph\n",
        "\n",
        "    Citiation\n",
        "    ---------\n",
        "    http://scikit-learn.org/stable/auto_examples/model_selection/plot_confusion_matrix.html\n",
        "\n",
        "    \"\"\"\n",
        "    import matplotlib.pyplot as plt\n",
        "    import numpy as np\n",
        "    import itertools\n",
        "\n",
        "    accuracy = np.trace(cm) / float(np.sum(cm))\n",
        "    misclass = 1 - accuracy\n",
        "\n",
        "    if cmap is None:\n",
        "        cmap = plt.get_cmap('Blues')\n",
        "\n",
        "    plt.figure(figsize=(8, 6))\n",
        "    plt.imshow(cm, interpolation='nearest', cmap=cmap)\n",
        "    plt.title(title)\n",
        "    plt.colorbar()\n",
        "\n",
        "    if target_names is not None:\n",
        "        tick_marks = np.arange(len(target_names))\n",
        "        plt.xticks(tick_marks, target_names, rotation=45)\n",
        "        plt.yticks(tick_marks, target_names)\n",
        "\n",
        "    if normalize:\n",
        "        cm = cm.astype('float') / cm.sum(axis=1)[:, np.newaxis]\n",
        "\n",
        "\n",
        "    thresh = cm.max() / 1.5 if normalize else cm.max() / 2\n",
        "    for i, j in itertools.product(range(cm.shape[0]), range(cm.shape[1])):\n",
        "        if normalize:\n",
        "            plt.text(j, i, \"{:0.4f}\".format(cm[i, j]),\n",
        "                     horizontalalignment=\"center\",\n",
        "                     color=\"white\" if cm[i, j] > thresh else \"black\")\n",
        "        else:\n",
        "            plt.text(j, i, \"{:,}\".format(cm[i, j]),\n",
        "                     horizontalalignment=\"center\",\n",
        "                     color=\"white\" if cm[i, j] > thresh else \"black\")\n",
        "\n",
        "\n",
        "    plt.tight_layout()\n",
        "    plt.ylabel('True label')\n",
        "    plt.xlabel('Predicted label')\n",
        "    plt.show()"
      ],
      "execution_count": 59,
      "outputs": []
    },
    {
      "cell_type": "code",
      "metadata": {
        "colab": {
          "base_uri": "https://localhost:8080/",
          "height": 455
        },
        "id": "ceKq5iH9VzRw",
        "outputId": "d936f1f0-94e3-4ec9-e205-0f2a04e7c5bf"
      },
      "source": [
        "plot_confusion_matrix(cm,normalize=False,target_names = ['agree','disagree','discuss','unrelated'],title='Confusion Matrix for Stance Detection on the test data')"
      ],
      "execution_count": 60,
      "outputs": [
        {
          "output_type": "display_data",
          "data": {
            "image/png": "[encoded data removed]",
            "text/plain": [
              "<Figure size 576x432 with 2 Axes>"
            ]
          },
          "metadata": {
            "tags": [],
            "needs_background": "light"
          }
        }
      ]
    },
    {
      "cell_type": "code",
      "metadata": {
        "colab": {
          "base_uri": "https://localhost:8080/"
        },
        "id": "KquU86HWV9fO",
        "outputId": "0966b15a-3f52-491c-cdb7-14990c5379e3"
      },
      "source": [
        "predictions"
      ],
      "execution_count": 61,
      "outputs": [
        {
          "output_type": "execute_result",
          "data": {
            "text/plain": [
              "['unrelated',\n",
              " 'unrelated',\n",
              " 'unrelated',\n",
              " 'unrelated',\n",
              " 'unrelated',\n",
              " 'unrelated',\n",
              " 'agree',\n",
              " 'unrelated',\n",
              " 'discuss',\n",
              " 'unrelated',\n",
              " 'unrelated',\n",
              " 'unrelated',\n",
              " 'unrelated',\n",
              " 'agree',\n",
              " 'unrelated',\n",
              " 'unrelated',\n",
              " 'unrelated',\n",
              " 'discuss',\n",
              " 'unrelated',\n",
              " 'unrelated',\n",
              " 'unrelated',\n",
              " 'unrelated',\n",
              " 'unrelated',\n",
              " 'unrelated',\n",
              " 'unrelated',\n",
              " 'unrelated',\n",
              " 'discuss',\n",
              " 'disagree',\n",
              " 'unrelated',\n",
              " 'unrelated',\n",
              " 'agree',\n",
              " 'unrelated',\n",
              " 'discuss',\n",
              " 'unrelated',\n",
              " 'discuss',\n",
              " 'unrelated',\n",
              " 'unrelated',\n",
              " 'unrelated',\n",
              " 'discuss',\n",
              " 'discuss',\n",
              " 'agree',\n",
              " 'unrelated',\n",
              " 'unrelated',\n",
              " 'discuss',\n",
              " 'discuss',\n",
              " 'unrelated',\n",
              " 'unrelated',\n",
              " 'unrelated',\n",
              " 'unrelated',\n",
              " 'discuss',\n",
              " 'unrelated',\n",
              " 'unrelated',\n",
              " 'discuss',\n",
              " 'unrelated',\n",
              " 'unrelated',\n",
              " 'unrelated',\n",
              " 'unrelated',\n",
              " 'discuss',\n",
              " 'unrelated',\n",
              " 'unrelated',\n",
              " 'unrelated',\n",
              " 'unrelated',\n",
              " 'discuss',\n",
              " 'unrelated',\n",
              " 'unrelated',\n",
              " 'unrelated',\n",
              " 'unrelated',\n",
              " 'discuss',\n",
              " 'unrelated',\n",
              " 'unrelated',\n",
              " 'unrelated',\n",
              " 'unrelated',\n",
              " 'unrelated',\n",
              " 'discuss',\n",
              " 'unrelated',\n",
              " 'unrelated',\n",
              " 'unrelated',\n",
              " 'agree',\n",
              " 'unrelated',\n",
              " 'discuss',\n",
              " 'unrelated',\n",
              " 'unrelated',\n",
              " 'unrelated',\n",
              " 'unrelated',\n",
              " 'unrelated',\n",
              " 'unrelated',\n",
              " 'unrelated',\n",
              " 'unrelated',\n",
              " 'unrelated',\n",
              " 'discuss',\n",
              " 'unrelated',\n",
              " 'discuss',\n",
              " 'unrelated',\n",
              " 'unrelated',\n",
              " 'unrelated',\n",
              " 'unrelated',\n",
              " 'unrelated',\n",
              " 'unrelated',\n",
              " 'discuss',\n",
              " 'unrelated',\n",
              " 'discuss',\n",
              " 'unrelated',\n",
              " 'unrelated',\n",
              " 'unrelated',\n",
              " 'unrelated',\n",
              " 'agree',\n",
              " 'discuss',\n",
              " 'unrelated',\n",
              " 'agree',\n",
              " 'unrelated',\n",
              " 'unrelated',\n",
              " 'unrelated',\n",
              " 'unrelated',\n",
              " 'unrelated',\n",
              " 'unrelated',\n",
              " 'agree',\n",
              " 'unrelated',\n",
              " 'unrelated',\n",
              " 'unrelated',\n",
              " 'unrelated',\n",
              " 'unrelated',\n",
              " 'unrelated',\n",
              " 'unrelated',\n",
              " 'unrelated',\n",
              " 'unrelated',\n",
              " 'discuss',\n",
              " 'unrelated',\n",
              " 'unrelated',\n",
              " 'unrelated',\n",
              " 'discuss',\n",
              " 'unrelated',\n",
              " 'unrelated',\n",
              " 'discuss',\n",
              " 'unrelated',\n",
              " 'unrelated',\n",
              " 'unrelated',\n",
              " 'discuss',\n",
              " 'discuss',\n",
              " 'discuss',\n",
              " 'discuss',\n",
              " 'unrelated',\n",
              " 'unrelated',\n",
              " 'unrelated',\n",
              " 'discuss',\n",
              " 'unrelated',\n",
              " 'unrelated',\n",
              " 'unrelated',\n",
              " 'unrelated',\n",
              " 'discuss',\n",
              " 'unrelated',\n",
              " 'unrelated',\n",
              " 'unrelated',\n",
              " 'unrelated',\n",
              " 'unrelated',\n",
              " 'discuss',\n",
              " 'discuss',\n",
              " 'unrelated',\n",
              " 'unrelated',\n",
              " 'unrelated',\n",
              " 'unrelated',\n",
              " 'unrelated',\n",
              " 'discuss',\n",
              " 'unrelated',\n",
              " 'unrelated',\n",
              " 'unrelated',\n",
              " 'unrelated',\n",
              " 'unrelated',\n",
              " 'unrelated',\n",
              " 'unrelated',\n",
              " 'discuss',\n",
              " 'unrelated',\n",
              " 'discuss',\n",
              " 'discuss',\n",
              " 'unrelated',\n",
              " 'unrelated',\n",
              " 'unrelated',\n",
              " 'unrelated',\n",
              " 'discuss',\n",
              " 'unrelated',\n",
              " 'unrelated',\n",
              " 'unrelated',\n",
              " 'unrelated',\n",
              " 'unrelated',\n",
              " 'discuss',\n",
              " 'discuss',\n",
              " 'unrelated',\n",
              " 'unrelated',\n",
              " 'unrelated',\n",
              " 'unrelated',\n",
              " 'agree',\n",
              " 'unrelated',\n",
              " 'unrelated',\n",
              " 'unrelated',\n",
              " 'unrelated',\n",
              " 'unrelated',\n",
              " 'unrelated',\n",
              " 'unrelated',\n",
              " 'unrelated',\n",
              " 'unrelated',\n",
              " 'unrelated',\n",
              " 'unrelated',\n",
              " 'unrelated',\n",
              " 'unrelated',\n",
              " 'unrelated',\n",
              " 'unrelated',\n",
              " 'unrelated',\n",
              " 'discuss',\n",
              " 'unrelated',\n",
              " 'unrelated',\n",
              " 'unrelated',\n",
              " 'unrelated',\n",
              " 'discuss',\n",
              " 'unrelated',\n",
              " 'unrelated',\n",
              " 'discuss',\n",
              " 'unrelated',\n",
              " 'discuss',\n",
              " 'unrelated',\n",
              " 'unrelated',\n",
              " 'unrelated',\n",
              " 'unrelated',\n",
              " 'unrelated',\n",
              " 'unrelated',\n",
              " 'discuss',\n",
              " 'discuss',\n",
              " 'unrelated',\n",
              " 'unrelated',\n",
              " 'discuss',\n",
              " 'unrelated',\n",
              " 'unrelated',\n",
              " 'unrelated',\n",
              " 'unrelated',\n",
              " 'unrelated',\n",
              " 'unrelated',\n",
              " 'discuss',\n",
              " 'unrelated',\n",
              " 'unrelated',\n",
              " 'unrelated',\n",
              " 'unrelated',\n",
              " 'unrelated',\n",
              " 'unrelated',\n",
              " 'unrelated',\n",
              " 'agree',\n",
              " 'discuss',\n",
              " 'unrelated',\n",
              " 'discuss',\n",
              " 'unrelated',\n",
              " 'discuss',\n",
              " 'unrelated',\n",
              " 'unrelated',\n",
              " 'discuss',\n",
              " 'unrelated',\n",
              " 'unrelated',\n",
              " 'unrelated',\n",
              " 'unrelated',\n",
              " 'unrelated',\n",
              " 'discuss',\n",
              " 'unrelated',\n",
              " 'unrelated',\n",
              " 'unrelated',\n",
              " 'unrelated',\n",
              " 'unrelated',\n",
              " 'unrelated',\n",
              " 'discuss',\n",
              " 'unrelated',\n",
              " 'unrelated',\n",
              " 'discuss',\n",
              " 'unrelated',\n",
              " 'unrelated',\n",
              " 'unrelated',\n",
              " 'unrelated',\n",
              " 'unrelated',\n",
              " 'unrelated',\n",
              " 'discuss',\n",
              " 'unrelated',\n",
              " 'discuss',\n",
              " 'unrelated',\n",
              " 'unrelated',\n",
              " 'discuss',\n",
              " 'unrelated',\n",
              " 'unrelated',\n",
              " 'unrelated',\n",
              " 'unrelated',\n",
              " 'unrelated',\n",
              " 'unrelated',\n",
              " 'discuss',\n",
              " 'discuss',\n",
              " 'discuss',\n",
              " 'unrelated',\n",
              " 'unrelated',\n",
              " 'unrelated',\n",
              " 'unrelated',\n",
              " 'unrelated',\n",
              " 'unrelated',\n",
              " 'unrelated',\n",
              " 'agree',\n",
              " 'unrelated',\n",
              " 'unrelated',\n",
              " 'unrelated',\n",
              " 'discuss',\n",
              " 'unrelated',\n",
              " 'unrelated',\n",
              " 'unrelated',\n",
              " 'discuss',\n",
              " 'unrelated',\n",
              " 'unrelated',\n",
              " 'unrelated',\n",
              " 'unrelated',\n",
              " 'unrelated',\n",
              " 'discuss',\n",
              " 'unrelated',\n",
              " 'unrelated',\n",
              " 'unrelated',\n",
              " 'unrelated',\n",
              " 'unrelated',\n",
              " 'unrelated',\n",
              " 'unrelated',\n",
              " 'discuss',\n",
              " 'unrelated',\n",
              " 'unrelated',\n",
              " 'unrelated',\n",
              " 'discuss',\n",
              " 'discuss',\n",
              " 'unrelated',\n",
              " 'discuss',\n",
              " 'agree',\n",
              " 'discuss',\n",
              " 'unrelated',\n",
              " 'unrelated',\n",
              " 'discuss',\n",
              " 'unrelated',\n",
              " 'unrelated',\n",
              " 'unrelated',\n",
              " 'discuss',\n",
              " 'discuss',\n",
              " 'unrelated',\n",
              " 'unrelated',\n",
              " 'unrelated',\n",
              " 'unrelated',\n",
              " 'unrelated',\n",
              " 'unrelated',\n",
              " 'discuss',\n",
              " 'unrelated',\n",
              " 'unrelated',\n",
              " 'unrelated',\n",
              " 'unrelated',\n",
              " 'unrelated',\n",
              " 'unrelated',\n",
              " 'unrelated',\n",
              " 'unrelated',\n",
              " 'unrelated',\n",
              " 'agree',\n",
              " 'unrelated',\n",
              " 'unrelated',\n",
              " 'unrelated',\n",
              " 'unrelated',\n",
              " 'discuss',\n",
              " 'unrelated',\n",
              " 'unrelated',\n",
              " 'unrelated',\n",
              " 'unrelated',\n",
              " 'unrelated',\n",
              " 'discuss',\n",
              " 'unrelated',\n",
              " 'discuss',\n",
              " 'discuss',\n",
              " 'unrelated',\n",
              " 'unrelated',\n",
              " 'unrelated',\n",
              " 'unrelated',\n",
              " 'unrelated',\n",
              " 'unrelated',\n",
              " 'unrelated',\n",
              " 'unrelated',\n",
              " 'unrelated',\n",
              " 'unrelated',\n",
              " 'discuss',\n",
              " 'unrelated',\n",
              " 'unrelated',\n",
              " 'discuss',\n",
              " 'unrelated',\n",
              " 'unrelated',\n",
              " 'unrelated',\n",
              " 'unrelated',\n",
              " 'unrelated',\n",
              " 'unrelated',\n",
              " 'unrelated',\n",
              " 'discuss',\n",
              " 'unrelated',\n",
              " 'unrelated',\n",
              " 'unrelated',\n",
              " 'unrelated',\n",
              " 'unrelated',\n",
              " 'discuss',\n",
              " 'discuss',\n",
              " 'unrelated',\n",
              " 'unrelated',\n",
              " 'unrelated',\n",
              " 'unrelated',\n",
              " 'unrelated',\n",
              " 'unrelated',\n",
              " 'unrelated',\n",
              " 'unrelated',\n",
              " 'unrelated',\n",
              " 'unrelated',\n",
              " 'discuss',\n",
              " 'unrelated',\n",
              " 'unrelated',\n",
              " 'unrelated',\n",
              " 'unrelated',\n",
              " 'unrelated',\n",
              " 'unrelated',\n",
              " 'unrelated',\n",
              " 'unrelated',\n",
              " 'unrelated',\n",
              " 'unrelated',\n",
              " 'unrelated',\n",
              " 'unrelated',\n",
              " 'unrelated',\n",
              " 'unrelated',\n",
              " 'unrelated',\n",
              " 'unrelated',\n",
              " 'unrelated',\n",
              " 'unrelated',\n",
              " 'unrelated',\n",
              " 'unrelated',\n",
              " 'unrelated',\n",
              " 'discuss',\n",
              " 'unrelated',\n",
              " 'unrelated',\n",
              " 'discuss',\n",
              " 'unrelated',\n",
              " 'unrelated',\n",
              " 'unrelated',\n",
              " 'unrelated',\n",
              " 'unrelated',\n",
              " 'unrelated',\n",
              " 'unrelated',\n",
              " 'unrelated',\n",
              " 'discuss',\n",
              " 'unrelated',\n",
              " 'unrelated',\n",
              " 'unrelated',\n",
              " 'discuss',\n",
              " 'unrelated',\n",
              " 'unrelated',\n",
              " 'discuss',\n",
              " 'unrelated',\n",
              " 'discuss',\n",
              " 'discuss',\n",
              " 'unrelated',\n",
              " 'unrelated',\n",
              " 'unrelated',\n",
              " 'discuss',\n",
              " 'unrelated',\n",
              " 'agree',\n",
              " 'discuss',\n",
              " 'unrelated',\n",
              " 'unrelated',\n",
              " 'unrelated',\n",
              " 'unrelated',\n",
              " 'unrelated',\n",
              " 'unrelated',\n",
              " 'unrelated',\n",
              " 'unrelated',\n",
              " 'discuss',\n",
              " 'unrelated',\n",
              " 'unrelated',\n",
              " 'unrelated',\n",
              " 'unrelated',\n",
              " 'discuss',\n",
              " 'unrelated',\n",
              " 'unrelated',\n",
              " 'unrelated',\n",
              " 'discuss',\n",
              " 'unrelated',\n",
              " 'unrelated',\n",
              " 'unrelated',\n",
              " 'unrelated',\n",
              " 'unrelated',\n",
              " 'unrelated',\n",
              " 'discuss',\n",
              " 'unrelated',\n",
              " 'unrelated',\n",
              " 'unrelated',\n",
              " 'unrelated',\n",
              " 'agree',\n",
              " 'unrelated',\n",
              " 'unrelated',\n",
              " 'unrelated',\n",
              " 'discuss',\n",
              " 'discuss',\n",
              " 'unrelated',\n",
              " 'discuss',\n",
              " 'unrelated',\n",
              " 'unrelated',\n",
              " 'discuss',\n",
              " 'unrelated',\n",
              " 'unrelated',\n",
              " 'unrelated',\n",
              " 'unrelated',\n",
              " 'discuss',\n",
              " 'unrelated',\n",
              " 'unrelated',\n",
              " 'unrelated',\n",
              " 'discuss',\n",
              " 'unrelated',\n",
              " 'unrelated',\n",
              " 'unrelated',\n",
              " 'discuss',\n",
              " 'unrelated',\n",
              " 'unrelated',\n",
              " 'unrelated',\n",
              " 'unrelated',\n",
              " 'unrelated',\n",
              " 'discuss',\n",
              " 'discuss',\n",
              " 'unrelated',\n",
              " 'unrelated',\n",
              " 'unrelated',\n",
              " 'discuss',\n",
              " 'unrelated',\n",
              " 'unrelated',\n",
              " 'unrelated',\n",
              " 'unrelated',\n",
              " 'unrelated',\n",
              " 'unrelated',\n",
              " 'unrelated',\n",
              " 'unrelated',\n",
              " 'discuss',\n",
              " 'discuss',\n",
              " 'unrelated',\n",
              " 'unrelated',\n",
              " 'discuss',\n",
              " 'unrelated',\n",
              " 'unrelated',\n",
              " 'unrelated',\n",
              " 'discuss',\n",
              " 'unrelated',\n",
              " 'discuss',\n",
              " 'unrelated',\n",
              " 'unrelated',\n",
              " 'unrelated',\n",
              " 'unrelated',\n",
              " 'unrelated',\n",
              " 'unrelated',\n",
              " 'unrelated',\n",
              " 'unrelated',\n",
              " 'discuss',\n",
              " 'unrelated',\n",
              " 'unrelated',\n",
              " 'unrelated',\n",
              " 'unrelated',\n",
              " 'unrelated',\n",
              " 'unrelated',\n",
              " 'unrelated',\n",
              " 'unrelated',\n",
              " 'unrelated',\n",
              " 'unrelated',\n",
              " 'unrelated',\n",
              " 'unrelated',\n",
              " 'unrelated',\n",
              " 'unrelated',\n",
              " 'unrelated',\n",
              " 'discuss',\n",
              " 'unrelated',\n",
              " 'unrelated',\n",
              " 'unrelated',\n",
              " 'unrelated',\n",
              " 'discuss',\n",
              " 'unrelated',\n",
              " 'unrelated',\n",
              " 'discuss',\n",
              " 'discuss',\n",
              " 'unrelated',\n",
              " 'unrelated',\n",
              " 'unrelated',\n",
              " 'discuss',\n",
              " 'unrelated',\n",
              " 'unrelated',\n",
              " 'unrelated',\n",
              " 'unrelated',\n",
              " 'unrelated',\n",
              " 'unrelated',\n",
              " 'unrelated',\n",
              " 'unrelated',\n",
              " 'unrelated',\n",
              " 'unrelated',\n",
              " 'unrelated',\n",
              " 'unrelated',\n",
              " 'unrelated',\n",
              " 'unrelated',\n",
              " 'unrelated',\n",
              " 'unrelated',\n",
              " 'unrelated',\n",
              " 'unrelated',\n",
              " 'unrelated',\n",
              " 'discuss',\n",
              " 'unrelated',\n",
              " 'unrelated',\n",
              " 'unrelated',\n",
              " 'unrelated',\n",
              " 'unrelated',\n",
              " 'unrelated',\n",
              " 'discuss',\n",
              " 'unrelated',\n",
              " 'discuss',\n",
              " 'unrelated',\n",
              " 'unrelated',\n",
              " 'unrelated',\n",
              " 'discuss',\n",
              " 'discuss',\n",
              " 'unrelated',\n",
              " 'unrelated',\n",
              " 'agree',\n",
              " 'unrelated',\n",
              " 'discuss',\n",
              " 'unrelated',\n",
              " 'discuss',\n",
              " 'unrelated',\n",
              " 'unrelated',\n",
              " 'unrelated',\n",
              " 'discuss',\n",
              " 'agree',\n",
              " 'discuss',\n",
              " 'unrelated',\n",
              " 'unrelated',\n",
              " 'discuss',\n",
              " 'unrelated',\n",
              " 'unrelated',\n",
              " 'discuss',\n",
              " 'unrelated',\n",
              " 'unrelated',\n",
              " 'unrelated',\n",
              " 'unrelated',\n",
              " 'unrelated',\n",
              " 'discuss',\n",
              " 'unrelated',\n",
              " 'unrelated',\n",
              " 'unrelated',\n",
              " 'unrelated',\n",
              " 'discuss',\n",
              " 'unrelated',\n",
              " 'unrelated',\n",
              " 'unrelated',\n",
              " 'unrelated',\n",
              " 'unrelated',\n",
              " 'discuss',\n",
              " 'unrelated',\n",
              " 'unrelated',\n",
              " 'unrelated',\n",
              " 'discuss',\n",
              " 'unrelated',\n",
              " 'unrelated',\n",
              " 'discuss',\n",
              " 'unrelated',\n",
              " 'discuss',\n",
              " 'unrelated',\n",
              " 'unrelated',\n",
              " 'unrelated',\n",
              " 'unrelated',\n",
              " 'unrelated',\n",
              " 'agree',\n",
              " 'unrelated',\n",
              " 'unrelated',\n",
              " 'unrelated',\n",
              " 'unrelated',\n",
              " 'unrelated',\n",
              " 'unrelated',\n",
              " 'unrelated',\n",
              " 'unrelated',\n",
              " 'discuss',\n",
              " 'discuss',\n",
              " 'unrelated',\n",
              " 'unrelated',\n",
              " 'unrelated',\n",
              " 'discuss',\n",
              " 'discuss',\n",
              " 'unrelated',\n",
              " 'unrelated',\n",
              " 'unrelated',\n",
              " 'unrelated',\n",
              " 'unrelated',\n",
              " 'unrelated',\n",
              " 'unrelated',\n",
              " 'unrelated',\n",
              " 'discuss',\n",
              " 'unrelated',\n",
              " 'discuss',\n",
              " 'unrelated',\n",
              " 'discuss',\n",
              " 'unrelated',\n",
              " 'unrelated',\n",
              " 'unrelated',\n",
              " 'unrelated',\n",
              " 'unrelated',\n",
              " 'unrelated',\n",
              " 'unrelated',\n",
              " 'unrelated',\n",
              " 'unrelated',\n",
              " 'unrelated',\n",
              " 'unrelated',\n",
              " 'discuss',\n",
              " 'discuss',\n",
              " 'unrelated',\n",
              " 'discuss',\n",
              " 'discuss',\n",
              " 'unrelated',\n",
              " 'unrelated',\n",
              " 'unrelated',\n",
              " 'unrelated',\n",
              " 'unrelated',\n",
              " 'unrelated',\n",
              " 'unrelated',\n",
              " 'unrelated',\n",
              " 'unrelated',\n",
              " 'unrelated',\n",
              " 'unrelated',\n",
              " 'unrelated',\n",
              " 'unrelated',\n",
              " 'unrelated',\n",
              " 'unrelated',\n",
              " 'unrelated',\n",
              " 'unrelated',\n",
              " 'unrelated',\n",
              " 'unrelated',\n",
              " 'unrelated',\n",
              " 'unrelated',\n",
              " 'unrelated',\n",
              " 'unrelated',\n",
              " 'discuss',\n",
              " 'unrelated',\n",
              " 'unrelated',\n",
              " 'unrelated',\n",
              " 'unrelated',\n",
              " 'unrelated',\n",
              " 'unrelated',\n",
              " 'discuss',\n",
              " 'unrelated',\n",
              " 'unrelated',\n",
              " 'unrelated',\n",
              " 'unrelated',\n",
              " 'unrelated',\n",
              " 'unrelated',\n",
              " 'unrelated',\n",
              " 'unrelated',\n",
              " 'unrelated',\n",
              " 'discuss',\n",
              " 'unrelated',\n",
              " 'unrelated',\n",
              " 'discuss',\n",
              " 'unrelated',\n",
              " 'discuss',\n",
              " 'discuss',\n",
              " 'agree',\n",
              " 'unrelated',\n",
              " 'unrelated',\n",
              " 'unrelated',\n",
              " 'unrelated',\n",
              " 'unrelated',\n",
              " 'discuss',\n",
              " 'unrelated',\n",
              " 'unrelated',\n",
              " 'unrelated',\n",
              " 'unrelated',\n",
              " 'unrelated',\n",
              " 'unrelated',\n",
              " 'unrelated',\n",
              " 'discuss',\n",
              " 'unrelated',\n",
              " 'unrelated',\n",
              " 'unrelated',\n",
              " 'unrelated',\n",
              " 'unrelated',\n",
              " 'unrelated',\n",
              " 'unrelated',\n",
              " 'unrelated',\n",
              " 'unrelated',\n",
              " 'unrelated',\n",
              " 'unrelated',\n",
              " 'unrelated',\n",
              " 'discuss',\n",
              " 'unrelated',\n",
              " 'unrelated',\n",
              " 'discuss',\n",
              " 'unrelated',\n",
              " 'unrelated',\n",
              " 'discuss',\n",
              " 'agree',\n",
              " 'unrelated',\n",
              " 'unrelated',\n",
              " 'unrelated',\n",
              " 'discuss',\n",
              " 'discuss',\n",
              " 'unrelated',\n",
              " 'discuss',\n",
              " 'unrelated',\n",
              " 'unrelated',\n",
              " 'unrelated',\n",
              " 'unrelated',\n",
              " 'unrelated',\n",
              " 'discuss',\n",
              " 'unrelated',\n",
              " 'unrelated',\n",
              " 'unrelated',\n",
              " 'unrelated',\n",
              " 'unrelated',\n",
              " 'unrelated',\n",
              " 'unrelated',\n",
              " 'unrelated',\n",
              " 'unrelated',\n",
              " 'unrelated',\n",
              " 'unrelated',\n",
              " 'unrelated',\n",
              " 'unrelated',\n",
              " 'discuss',\n",
              " 'unrelated',\n",
              " 'unrelated',\n",
              " 'unrelated',\n",
              " 'unrelated',\n",
              " 'unrelated',\n",
              " 'unrelated',\n",
              " 'discuss',\n",
              " 'unrelated',\n",
              " 'unrelated',\n",
              " 'unrelated',\n",
              " 'unrelated',\n",
              " 'unrelated',\n",
              " 'unrelated',\n",
              " 'unrelated',\n",
              " 'unrelated',\n",
              " 'discuss',\n",
              " 'unrelated',\n",
              " 'discuss',\n",
              " 'unrelated',\n",
              " 'unrelated',\n",
              " 'unrelated',\n",
              " 'unrelated',\n",
              " 'unrelated',\n",
              " 'discuss',\n",
              " 'unrelated',\n",
              " 'discuss',\n",
              " 'unrelated',\n",
              " 'discuss',\n",
              " 'unrelated',\n",
              " 'unrelated',\n",
              " 'unrelated',\n",
              " 'unrelated',\n",
              " 'unrelated',\n",
              " 'discuss',\n",
              " 'unrelated',\n",
              " 'unrelated',\n",
              " 'unrelated',\n",
              " 'unrelated',\n",
              " 'discuss',\n",
              " 'unrelated',\n",
              " 'unrelated',\n",
              " 'unrelated',\n",
              " 'discuss',\n",
              " 'unrelated',\n",
              " 'unrelated',\n",
              " 'unrelated',\n",
              " 'discuss',\n",
              " 'unrelated',\n",
              " 'unrelated',\n",
              " 'unrelated',\n",
              " 'unrelated',\n",
              " 'discuss',\n",
              " 'unrelated',\n",
              " 'unrelated',\n",
              " 'unrelated',\n",
              " 'discuss',\n",
              " 'unrelated',\n",
              " 'unrelated',\n",
              " 'unrelated',\n",
              " 'discuss',\n",
              " 'unrelated',\n",
              " 'unrelated',\n",
              " 'unrelated',\n",
              " 'unrelated',\n",
              " 'unrelated',\n",
              " 'unrelated',\n",
              " 'unrelated',\n",
              " 'unrelated',\n",
              " 'unrelated',\n",
              " 'unrelated',\n",
              " 'unrelated',\n",
              " 'unrelated',\n",
              " 'unrelated',\n",
              " 'discuss',\n",
              " 'unrelated',\n",
              " 'discuss',\n",
              " 'unrelated',\n",
              " 'unrelated',\n",
              " 'unrelated',\n",
              " 'unrelated',\n",
              " 'unrelated',\n",
              " 'unrelated',\n",
              " 'unrelated',\n",
              " 'unrelated',\n",
              " 'unrelated',\n",
              " 'unrelated',\n",
              " 'unrelated',\n",
              " 'unrelated',\n",
              " 'unrelated',\n",
              " 'unrelated',\n",
              " 'unrelated',\n",
              " 'unrelated',\n",
              " 'unrelated',\n",
              " 'unrelated',\n",
              " 'unrelated',\n",
              " 'unrelated',\n",
              " 'discuss',\n",
              " 'unrelated',\n",
              " 'unrelated',\n",
              " 'unrelated',\n",
              " 'unrelated',\n",
              " 'discuss',\n",
              " 'discuss',\n",
              " 'discuss',\n",
              " 'unrelated',\n",
              " 'unrelated',\n",
              " 'unrelated',\n",
              " 'unrelated',\n",
              " 'unrelated',\n",
              " 'unrelated',\n",
              " 'unrelated',\n",
              " 'unrelated',\n",
              " 'unrelated',\n",
              " 'unrelated',\n",
              " 'unrelated',\n",
              " 'unrelated',\n",
              " 'unrelated',\n",
              " 'unrelated',\n",
              " 'unrelated',\n",
              " 'discuss',\n",
              " 'unrelated',\n",
              " 'unrelated',\n",
              " 'discuss',\n",
              " 'unrelated',\n",
              " 'unrelated',\n",
              " 'discuss',\n",
              " 'unrelated',\n",
              " 'unrelated',\n",
              " 'discuss',\n",
              " 'discuss',\n",
              " 'unrelated',\n",
              " 'discuss',\n",
              " 'unrelated',\n",
              " 'unrelated',\n",
              " 'unrelated',\n",
              " 'unrelated',\n",
              " 'discuss',\n",
              " 'unrelated',\n",
              " 'unrelated',\n",
              " 'unrelated',\n",
              " 'unrelated',\n",
              " 'unrelated',\n",
              " 'unrelated',\n",
              " 'unrelated',\n",
              " 'unrelated',\n",
              " 'unrelated',\n",
              " 'unrelated',\n",
              " 'unrelated',\n",
              " 'agree',\n",
              " 'unrelated',\n",
              " 'discuss',\n",
              " 'agree',\n",
              " 'unrelated',\n",
              " 'unrelated',\n",
              " 'discuss',\n",
              " 'unrelated',\n",
              " 'unrelated',\n",
              " 'unrelated',\n",
              " 'unrelated',\n",
              " 'discuss',\n",
              " 'unrelated',\n",
              " 'unrelated',\n",
              " 'discuss',\n",
              " 'unrelated',\n",
              " 'unrelated',\n",
              " 'unrelated',\n",
              " 'unrelated',\n",
              " 'unrelated',\n",
              " 'unrelated',\n",
              " 'agree',\n",
              " 'unrelated',\n",
              " 'unrelated',\n",
              " 'discuss',\n",
              " 'discuss',\n",
              " 'unrelated',\n",
              " 'discuss',\n",
              " 'unrelated',\n",
              " 'unrelated',\n",
              " 'unrelated',\n",
              " 'unrelated',\n",
              " 'unrelated',\n",
              " 'unrelated',\n",
              " 'unrelated',\n",
              " 'unrelated',\n",
              " ...]"
            ]
          },
          "metadata": {
            "tags": []
          },
          "execution_count": 61
        }
      ]
    },
    {
      "cell_type": "code",
      "metadata": {
        "id": "y8s8pk0nS8hl"
      },
      "source": [
        ""
      ],
      "execution_count": null,
      "outputs": []
    },
    {
      "cell_type": "code",
      "metadata": {
        "colab": {
          "base_uri": "https://localhost:8080/"
        },
        "id": "Ky9G7LmyRfXf",
        "outputId": "9b0924c2-4e2b-4220-9265-ab0a4ba84cec"
      },
      "source": [
        "train_neural[0]"
      ],
      "execution_count": 68,
      "outputs": [
        {
          "output_type": "execute_result",
          "data": {
            "text/plain": [
              "array([0.40915006, 0.40915006, 0.40915006, ..., 0.00900494, 0.01685593,\n",
              "       0.00782146])"
            ]
          },
          "metadata": {
            "tags": []
          },
          "execution_count": 68
        }
      ]
    },
    {
      "cell_type": "code",
      "metadata": {
        "id": "g0ys2K26KQgJ"
      },
      "source": [
        "def demo(neural,external,statistical,model):\n",
        "  final = [neural.reshape((1,4800)),external.reshape((1,21)),statistical.reshape((1,10000))]\n",
        "  pred = model.predict(final)\n",
        "  stance = ret_tags(pred, {i: t for t, i in stance_to_index.items()})\n",
        "  return stance"
      ],
      "execution_count": 81,
      "outputs": []
    },
    {
      "cell_type": "code",
      "metadata": {
        "colab": {
          "base_uri": "https://localhost:8080/"
        },
        "id": "CcnIMj0hQ2uO",
        "outputId": "364c85de-9282-42bd-ba84-d42be2642db1"
      },
      "source": [
        "demo(np.array(train_neural[5]),np.array(train_external[5]),np.array(train_statistical[5]),model)"
      ],
      "execution_count": 87,
      "outputs": [
        {
          "output_type": "execute_result",
          "data": {
            "text/plain": [
              "['agree']"
            ]
          },
          "metadata": {
            "tags": []
          },
          "execution_count": 87
        }
      ]
    },
    {
      "cell_type": "code",
      "metadata": {
        "id": "jrCOA2yvcluk"
      },
      "source": [
        ""
      ],
      "execution_count": null,
      "outputs": []
    }
  ]
}